{
 "cells": [
  {
   "cell_type": "markdown",
   "metadata": {
    "collapsed": true
   },
   "source": [
    "# 18.04.04 - 1단계: 입/출력 받아보기 "
   ]
  },
  {
   "cell_type": "code",
   "execution_count": null,
   "metadata": {
    "collapsed": true
   },
   "outputs": [],
   "source": [
    "# 1000번 문제: 두 수 A와 B를 입력받은 다음, A+B를 출력하는 프로그램을 작성하시오. 첫째 줄에 A와 B가 주어진다. (0 < A, B < 10)\n",
    "# a, b = input().split()\n",
    "# print(int(a) + int(b))\n",
    "\n",
    "a, b = map(int, input().split())\n",
    "print(a+b)\n",
    "\n",
    "#다른 해답\n",
    "# print(eval('+'.join(input())))"
   ]
  },
  {
   "cell_type": "code",
   "execution_count": null,
   "metadata": {
    "collapsed": true
   },
   "outputs": [],
   "source": [
    "#1001번 문제: A-B를 계산하시오. 첫째 줄에 A와 B가 주어진다. (0< A, B < 10)\n",
    "\n",
    "a, b = map(int, input().split())\n",
    "print(a-b)"
   ]
  },
  {
   "cell_type": "code",
   "execution_count": null,
   "metadata": {
    "collapsed": true
   },
   "outputs": [],
   "source": [
    "#7287번 문제: 자신이 온라인 저지에서 맞은 문제의 개수와 아이디를 그대로 출력하는 프로그램을 작성하시오.\n",
    "print(\"3\")\n",
    "print(\"rainysky\")"
   ]
  },
  {
   "cell_type": "code",
   "execution_count": null,
   "metadata": {
    "collapsed": true
   },
   "outputs": [],
   "source": [
    "#10172번 문제: 아래 예제와 같이 개를 출력하시오.\n",
    "print(r'''|\\_/|\n",
    "|q p|   /}\n",
    "( 0 )\"\"\"\\\n",
    "|\"^\"`    |\n",
    "||_/=\\\\__|''')\n",
    "\n",
    "#문자열 앞에 r을 넣어 raw literal임을 알려야 함\n",
    "\n",
    "#다른 해답\n",
    "# print('|\\_/|\\n|q p|   /}\\n( 0 )\"\"\"\\ \\n|\"^\"`    |\\n||_/=\\\\\\__|')"
   ]
  },
  {
   "cell_type": "code",
   "execution_count": null,
   "metadata": {
    "collapsed": true
   },
   "outputs": [],
   "source": [
    "#10718번 문제: 두 줄에 걸쳐 \"강한친구 대한육군\"을 한 줄에 한 번씩 출력한다.\n",
    "print(\"\"\"강한친구 대한육군\n",
    "강한친구 대한육군\"\"\")\n",
    "\n",
    "#다른 해답\n",
    "# print(\"강한친구 대한육군\\n\"*2)"
   ]
  },
  {
   "cell_type": "code",
   "execution_count": null,
   "metadata": {
    "collapsed": true
   },
   "outputs": [],
   "source": [
    "#11718번 문제: 입력 받은 대로 출력하는 프로그램을 작성하시오.입력은 최대 100줄로 이루어져 있고, 알파벳 소문자, 대문자, 공백, 숫자로만 이루어져 있다. 각 줄은 100글자를 넘지 않으며, 빈 줄은 주어지지 않는다. 또, 각 줄은 공백으로 시작하지 않고, 공백으로 끝나지 않는다.\n",
    "# anyinput = True\n",
    "# texts = []\n",
    "# while anyinput:\n",
    "#     text = input()\n",
    "#     if len(text) == 0:\n",
    "#         anyinput = False\n",
    "#         continue\n",
    "#     else:\n",
    "#         texts.append(text)\n",
    "# -> 오답\n",
    "\n",
    "# for text in texts:\n",
    "#     print(text)\n",
    "# -> 오답\n",
    "\n",
    "# texts = input()\n",
    "# for text in texts.split('\\n'):\n",
    "#     print(text)\n",
    "# -> 오답\n",
    "\n",
    "try:\n",
    "    while True:\n",
    "        text = input()\n",
    "        print(text)\n",
    "        \n",
    "except EOFError:\n",
    "    pass\n",
    "# 참고: https://soooprmx.com/archives/8242\n",
    "\n",
    "\n",
    "# 다른 해답\n",
    "# while 1:print(input())"
   ]
  },
  {
   "cell_type": "code",
   "execution_count": null,
   "metadata": {
    "collapsed": true
   },
   "outputs": [],
   "source": [
    "# 11719번 문제: 입력 받은 대로 출력하는 프로그램을 작성하시오. 입력은 최대 100줄로 이루어져 있고, 알파벳 소문자, 대문자, 공백, 숫자로만 이루어져 있다. 각 줄은 100글자를 넘지 않으며, 빈 줄이 주어질 수도 있고, 각 줄의 앞 뒤에 공백이 있을 수도 있다.\n",
    "\n",
    "try:\n",
    "    while 1:\n",
    "        print(input())\n",
    "except EOFError:\n",
    "    pass"
   ]
  },
  {
   "cell_type": "markdown",
   "metadata": {
    "collapsed": true
   },
   "source": [
    "# 18.04.05 - 2단계: 사칙연산 도전하기"
   ]
  },
  {
   "cell_type": "code",
   "execution_count": null,
   "metadata": {
    "collapsed": true
   },
   "outputs": [],
   "source": [
    "# 10998번 문제: 두 정수 A와 B를 입력받은 다음, A×B를 출력하는 프로그램을 작성하시오. 첫째 줄에 A와 B가 주어진다. (0 < A, B < 10)\n",
    "\n",
    "a, b = map(int, input().split())\n",
    "print(a*b)\n",
    "\n",
    "# 다른 해답\n",
    "# a,b,c=input();print(int(a)*int(c))"
   ]
  },
  {
   "cell_type": "code",
   "execution_count": null,
   "metadata": {
    "collapsed": true
   },
   "outputs": [],
   "source": [
    "# 1008번 문제: A/B를 계산하시오. 첫째 줄에 A와 B가 주어진다. (0 < A, B < 10). 절대/상대 오차는 10-9 까지 허용한다.\n",
    "\n",
    "a, b = map(float, input().split())\n",
    "print(a/b)\n",
    "\n",
    "#다른 해답\n",
    "# a,b,c=input();print(int(a)/int(c))"
   ]
  },
  {
   "cell_type": "code",
   "execution_count": null,
   "metadata": {
    "collapsed": true
   },
   "outputs": [],
   "source": [
    "# 10869번 문제: 두 자연수 A와 B가 주어진다. 이 때, A+B, A-B, A*B, A/B(몫), A%B(나머지)를 출력하는 프로그램을 작성하시오. 첫째 줄에 A+B, 둘째 줄에 A-B, 셋째 줄에 A*B, 넷째 줄에 A/B, 다섯째 줄에 A%B를 출력한다.\n",
    "a, b = map(int, input().split())\n",
    "print(a+b)\n",
    "print(a-b)\n",
    "print(a*b)\n",
    "print(int(a/b))\n",
    "print(a%b)\n",
    "\n",
    "#다른 해답\n",
    "# a,b=map(int,input().split());print(a+b,a-b,a*b,a//b,a%b, sep='\\n')"
   ]
  },
  {
   "cell_type": "code",
   "execution_count": null,
   "metadata": {
    "collapsed": true,
    "scrolled": true
   },
   "outputs": [],
   "source": [
    "# 10430번 문제: (A+B)%C는 (A%C + B%C)%C 와 같을까?\n",
    "# (A×B)%C는 (A%C × B%C)%C 와 같을까? \n",
    "# 세 수 A, B, C가 주어졌을 때, 위의 네가지 값을 구하는 프로그램을 작성하시오. \n",
    "# 첫째 줄에 A, B, C가 순서대로 주어진다. (2 ≤ A, B, C ≤ 10000)  \n",
    "# 첫째 줄에 (A+B)%C, 둘째 줄에 (A%C + B%C)%C, 셋째 줄에 (A×B)%C, 넷째 줄에 (A%C × B%C)%C를 출력한다.\n",
    "\n",
    "a,b,c = map(int, input().split())\n",
    "print((a+b)%c, (a%c + b%c)%c, (a*b)%c, (a%c * b%c)%c, sep='\\n')"
   ]
  },
  {
   "cell_type": "code",
   "execution_count": null,
   "metadata": {
    "collapsed": true,
    "scrolled": true
   },
   "outputs": [],
   "source": [
    "# 2558번 문제: A+B를 계산하시오. 첫째 줄에 A, 둘째 줄에 B가 주어진다. (0 < A, B < 10)\n",
    "\n",
    "# a = input()\n",
    "# b = input()\n",
    "# print(int(a)+int(b))\n",
    "print(int(input())+int(input()))"
   ]
  },
  {
   "cell_type": "code",
   "execution_count": null,
   "metadata": {
    "collapsed": true
   },
   "outputs": [],
   "source": [
    "# 2839번 문제: 상근이는 요즘 설탕공장에서 설탕을 배달하고 있다. 상근이는 지금 사탕가게에 설탕을 정확하게 N킬로그램을 배달해야 한다. 설탕공장에서 만드는 설탕은 봉지에 담겨져 있다. \n",
    "# 봉지는 3킬로그램 봉지와 5킬로그램 봉지가 있다. 상근이는 귀찮기 때문에, 최대한 적은 봉지를 들고 가려고 한다. \n",
    "# 예를 들어, 18킬로그램 설탕을 배달해야 할 때, 3킬로그램 봉지 6개를 가져가도 되지만, 5킬로그램 3개와 3킬로그램 1개를 배달하면, \n",
    "# 더 적은 개수의 봉지를 배달할 수 있다. 상근이가 설탕을 정확하게 N킬로그램 배달해야 할 때, 봉지 몇 개를 가져가면 되는지 그 수를 구하는 프로그램을 작성하시오.\n",
    "# 첫째 줄에 N이 주어진다. (3 ≤ N ≤ 5000) 상근이가 배달하는 봉지의 최소 개수를 출력한다. 만약, 정확하게 N킬로그램을 만들 수 없다면 -1을 출력한다.\n",
    "   \n",
    "n = int(input())\n",
    "a = n%5\n",
    "b = int(n/5)\n",
    "if n < 15 and n%3 == 0: print(int(n/3))\n",
    "elif a == 0: print(b)\n",
    "elif n > 7 and a == 1: print(b+1)\n",
    "elif n > 7 and a == 2: print(b+2)\n",
    "elif n > 7 and a == 3: print(b+1)\n",
    "elif n > 7 and a == 4: print(b+2)\n",
    "else: print(-1)\n",
    "    \n",
    "# 다른 해답\n",
    "# i=int(input())\n",
    "# c=0\n",
    "# while i%5:\n",
    "#     i-=3\n",
    "#     c+=1\n",
    "# print(-1 if i<0 else i//5+c)"
   ]
  },
  {
   "cell_type": "markdown",
   "metadata": {
    "collapsed": true
   },
   "source": [
    "# 18.04.06 - 3단계: for문 사용해보기"
   ]
  },
  {
   "cell_type": "code",
   "execution_count": null,
   "metadata": {
    "collapsed": true
   },
   "outputs": [],
   "source": [
    "# 2741번 문제: 자연수 N이 주어졌을 때, 1부터 N까지 한 줄에 하나씩 출력하는 프로그램을 작성하시오. \n",
    "# 첫째 줄에 100,000보다 작거나 같은 자연수 N이 주어진다.\n",
    "\n",
    "for i in range(int(input())):\n",
    "    print(i+1)\n",
    "\n",
    "#다른 해답\n",
    "# print(*range(1,int(input())+1))"
   ]
  },
  {
   "cell_type": "code",
   "execution_count": null,
   "metadata": {
    "collapsed": true
   },
   "outputs": [],
   "source": [
    "#2742번 문제: 자연수 N이 주어졌을 때, N부터 1까지 한 줄에 하나씩 출력하는 프로그램을 작성하시오.\n",
    "# 첫째 줄에 100,000보다 작거나 같은 자연수 N이 주어진다.\n",
    "# 첫째 줄부터 N번째 줄 까지 차례대로 출력한다.\n",
    "N = int(input())\n",
    "for i in range(N): print(N-i)\n",
    "    \n",
    "#다른 해답\n",
    "# n=int(input())\n",
    "# while n:print(n);n-=1"
   ]
  },
  {
   "cell_type": "code",
   "execution_count": null,
   "metadata": {
    "collapsed": true
   },
   "outputs": [],
   "source": [
    "#2739번 문제: N을 입력받은 뒤, 구구단 N단을 출력하는 프로그램을 작성하시오. 출력 형식에 맞춰서 출력하면 된다.\n",
    "# 첫째 줄에 N이 주어진다. N은 1보다 크거나 같고, 9보다 작거나 같다.\n",
    "# 출력형식과 같게 N*1부터 N*9까지 출력한다.\n",
    "N = int(input())\n",
    "#1차 제출안 -> 출력형식오류. 채점에 문제 있는듯. \"\" 사이의 공백 없애니 통과됨. 출력 예시에는 공백이 포함되어 있음\n",
    "# for i in range(1, 10): print(N,\" * \",i,\" = \",N*i)\n",
    "\n",
    "#2차제출안\n",
    "for i in range(1, 10): print(str(N)+\" * \"+str(i)+\" = \"+str(N*i))\n",
    "    \n",
    "#3차제출안\n",
    "# for i in range(1, 10): print(N,\"*\",i,\"=\",N*i)"
   ]
  },
  {
   "cell_type": "code",
   "execution_count": null,
   "metadata": {
    "collapsed": true
   },
   "outputs": [],
   "source": [
    "#2438번 문제: 첫째 줄에는 별 1개, 둘째 줄에는 별 2개, N번째 줄에는 별 N개를 찍는 문제\n",
    "# 첫째 줄에 N (1<=N<=100)이 주어진다.\n",
    "# 첫째 줄부터 N번째 줄 까지 차례대로 별을 출력한다.\n",
    "for i in range(int(input())):print(\"*\"*(i+1))\n",
    "    \n",
    "#다른 해답\n",
    "# for i in range(int(input())):print('*'*-~i)\n",
    "# *-~i 부분이 이해 안됨 -> ~ 는 비트연산자 중 보수 연산으로 +1을 한 후 - 값으로 바꿈. -~ 는 결국 +1"
   ]
  },
  {
   "cell_type": "code",
   "execution_count": null,
   "metadata": {
    "collapsed": true
   },
   "outputs": [],
   "source": [
    "#2439번 문제: 첫째 줄에는 별 1개, 둘째 줄에는 별 2개, N번째 줄에는 별 N개를 찍는 문제. 하지만, 오른쪽을 기준으로 정렬한 별 (예제 참고)을 출력하시오.\n",
    "# 첫째 줄에 N (1<=N<=100)이 주어진다.\n",
    "# 첫째 줄부터 N번째 줄 까지 차례대로 별을 출력한다.\n",
    "\n",
    "#1번 제출 -> 출력형식 오류\n",
    "N = int(input())\n",
    "for i in range(1, N+1):print(\" \"*(N-i),\"*\"*i)\n",
    "\n",
    "#2번 제출\n",
    "N = int(input())\n",
    "for i in range(1, N+1):print(\" \"*(N-i)+\"*\"*i)\n",
    "    \n",
    "#다른 해답\n",
    "# i=int(input());j=1;exec('print(\" \"*(i-j)+\"*\"*j);j+=1;'*i)"
   ]
  },
  {
   "cell_type": "code",
   "execution_count": null,
   "metadata": {
    "collapsed": true,
    "scrolled": true
   },
   "outputs": [],
   "source": [
    "#2440번 문제: 첫째 줄에는 별 N개, 둘째 줄에는 별 N-1개, ..., N번째 줄에는 별 1개를 찍는 문제\n",
    "# 첫째 줄에 N (1<=N<=100)이 주어진다.\n",
    "# 첫째 줄부터 N번째 줄 까지 차례대로 별을 출력한다.\n",
    "N = int(input())\n",
    "for i in range(N):print(\"*\"*(N-i))\n",
    "    \n",
    "#다른 해답 -> for문보다 while을 사용한 해답이 주로 보임. 짧아서 그런가?\n",
    "# n=int(input())\n",
    "# while(n>0):print('*'*n);n-=1"
   ]
  },
  {
   "cell_type": "code",
   "execution_count": null,
   "metadata": {
    "collapsed": true
   },
   "outputs": [],
   "source": [
    "# 2441번 문제: 첫째 줄에는 별 N개, 둘째 줄에는 별 N-1개, ..., N번째 줄에는 별 1개를 찍는 문제. 하지만, 오른쪽을 기준으로 정렬한 별 (예제 참고)을 출력하시오.\n",
    "# 첫째 줄에 N (1<=N<=100)이 주어진다.\n",
    "# 첫째 줄부터 N번째 줄 까지 차례대로 별을 출력한다.\n",
    "\n",
    "N=int(input());i=0;exec('print(\" \"*i+\"*\"*(N-i));i+=1;'*N)\n",
    "\n",
    "#다른 해답 \n",
    "# a=int(input())\n",
    "# for i in range(a):print(' '*i+'*'*(a-i))"
   ]
  },
  {
   "cell_type": "code",
   "execution_count": null,
   "metadata": {
    "collapsed": true,
    "scrolled": true
   },
   "outputs": [],
   "source": [
    "# 1924번 문제:오늘은 2007년 1월 1일 월요일이다. 그렇다면 2007년 x월 y일은 무슨 요일일까? 이를 알아내는 프로그램을 작성하시오.\n",
    "# 첫째 줄에 빈 칸을 사이에 두고 x(1≤x≤12)와 y(1≤y≤31)이 주어진다. 참고로 2007년에는 1, 3, 5, 7, 8, 10, 12월은 31일까지, 4, 6, 9, 11월은 30일까지, 2월은 28일까지 있다.\n",
    "# 첫째 줄에 x월 y일이 무슨 요일인지에 따라 SUN, MON, TUE, WED, THU, FRI, SAT중 하나를 출력한다.\n",
    "\n",
    "# m, d = map(int, input().split())\n",
    "# D = 0\n",
    "# m31 = [1, 3, 5, 7, 8, 10, 12]\n",
    "# m30 = [4, 6, 9, 11]\n",
    "# W = ['MON', 'TUE', 'WED', 'THU', 'FRI', 'SAT', 'SUN']\n",
    "# for i in range(m):\n",
    "#     if i in m31:D += 31\n",
    "#     elif i in m30:D += 30\n",
    "#     else:D += 28\n",
    "# print(W[((D+d)%7)-1])\n",
    "\n",
    "#다른 해답 -> 인덱싱을 잘 활용했다 / 다만 뒤의 숫자가 어떤 숫자인지는 파악 못함. \n",
    "m,d=map(int,input().split());print('FSSMTWTRAUOUEHITNNEDU'[(d-5389465494//7**m)%7::7])"
   ]
  },
  {
   "cell_type": "code",
   "execution_count": null,
   "metadata": {
    "collapsed": true
   },
   "outputs": [],
   "source": [
    "#8393번 문제: n이 주어졌을 때, 1부터 n까지 합을 구하는 프로그램을 작성하시오.\n",
    "# 첫째 줄에 n (1 ≤ n ≤ 10,000)이 주어진다.\n",
    "# 1부터 n까지 합을 출력한다.\n",
    "# print(sum([int(i+1) for i in range(int(input()))]))\n",
    "\n",
    "#다른 해답 -> for문이 아닌 수학적 지식 활용 ㅋㅋㅋ\n",
    "# n=int(input());print(n*(n+1)//2)\n",
    "\n",
    "#다른 해답 -> 정석적인 풀이. 나는 한줄로 쓰고싶어 list comprehension을 씀.\n",
    "# n=int(input());s=0\n",
    "# for i in range(1,n+1):s+=i\n",
    "# print(s)"
   ]
  },
  {
   "cell_type": "code",
   "execution_count": null,
   "metadata": {
    "collapsed": true
   },
   "outputs": [],
   "source": [
    "# 11720번 문제: N개의 숫자가 공백 없이 쓰여있다. 이 숫자를 모두 합해서 출력하는 프로그램을 작성하시오.\n",
    "# 첫째 줄에 숫자의 개수 N (1 ≤ N ≤ 100)이 주어진다. 둘째 줄에 숫자 N개가 공백없이 주어진다.\n",
    "# 입력으로 주어진 숫자 N개의 합을 출력한다.\n",
    "\n",
    "N = int(input())\n",
    "raw = input()\n",
    "n = 0\n",
    "for i in range(N):n+=int(raw[i])\n",
    "print(n)\n",
    "\n",
    "#다른 해답 -> 첫번째 인풋을 무시하고 두번째 인풋을 그냥 다 더해버림\n",
    "input();print(sum(map(int,input())))"
   ]
  },
  {
   "cell_type": "code",
   "execution_count": null,
   "metadata": {
    "collapsed": true
   },
   "outputs": [],
   "source": [
    "# 11721번 문제: 알파벳 소문자와 대문자로만 이루어진 길이가 N인 단어가 주어진다. 한 줄에 10글자씩 끊어서 출력하는 프로그램을 작성하시오.\n",
    "# 첫째 줄에 단어가 주어진다. 단어는 알파벳 소문자와 대문자로만 이루어져 있으며, 길이는 100을 넘지 않는다. 길이가 0인 단어는 주어지지 않는다.\n",
    "# 입력으로 주어진 단어를 열 개씩 끊어서 한 줄에 하나씩 출력한다. 단어의 길이가 10의 배수가 아닌 경우에는 마지막 줄에는 10개 미만의 글자만 출력할 수도 있다.\n",
    "w = input()\n",
    "for i in range((len(w)//10)+1):print(w[(i*10):(10*(i+1))])\n",
    "\n",
    "#다른 해답 -> 본문을 계속 슬라이싱하여 출력\n",
    "s=input()\n",
    "while s:print(s[:10]);s=s[10:]"
   ]
  },
  {
   "cell_type": "code",
   "execution_count": null,
   "metadata": {
    "collapsed": true
   },
   "outputs": [],
   "source": [
    "# 15552번 문제: 본격적으로 for문 문제를 풀기 전에 주의해야 할 점이 있다. 입출력 방식이 느리면 여러 줄을 입력받거나 출력할 때 시간초과가 날 수 있다는 점이다.\n",
    "# C++을 사용하고 있고 cin/cout을 사용하고자 한다면, cin.tie(NULL)과 sync_with_stdio(false)를 먼저 적용해 주자. 단, 이렇게 하면 더 이상 scanf/printf/puts/getchar/putchar 등 C의 입출력 방식을 사용하면 안 된다. 또한 endl 대신 개행문자를 쓰자.\n",
    "# Java를 사용하고 있다면, Scanner와 System.out.println 대신 BufferedReader와 BufferedWriter를 사용할 수 있다. BufferedWriter.flush는 맨 마지막에 한 번만 하면 된다.\n",
    "# Python을 사용하고 있다면, input 대신 sys.stdin.readline을 사용할 수 있다. 단, 이 때는 맨 끝의 개행문자까지 같이 입력받기 때문에 문자열을 저장하고 싶을 경우 .rstrip()을 추가로 해 주는 것이 좋다.\n",
    "# 또한 입력과 출력 스트림은 별개이므로, 테스트케이스를 전부 입력받아서 저장한 뒤 전부 출력할 필요는 없다. 테스트케이스를 하나 받은 뒤 하나 출력해도 된다. 이 문제는 메모리 제한이 작아서 테스트케이스를 전부 저장할 수 없도록 설계되었다.\n",
    "# 첫 줄에 테스트케이스의 개수 T가 주어진다. T는 최대 1,000,000이다. 다음 T줄에는 각각 두 정수 A와 B가 주어진다. A와 B는 1 이상, 1,000 이하이다.\n",
    "# 각 테스트케이스마다 A+B를 한 줄에 하나씩 순서대로 출력한다.\n",
    "\n",
    "#1차 제출 -> 시간초과\n",
    "for i in range(int(input())):print(sum(map(int, input().split())))\n",
    "\n",
    "#2차 제출\n",
    "import sys\n",
    "for i in range(int(input())):print(sum(map(int, sys.stdin.readline().split())))\n",
    "import sys\n",
    "\n",
    "#다른 해답\n",
    "# for x in sys.stdin.readlines()[1:]:print(sum(map(int,x.split())))"
   ]
  },
  {
   "cell_type": "markdown",
   "metadata": {},
   "source": [
    "# 18.04.09 - 4단계: if문 사용해보기"
   ]
  },
  {
   "cell_type": "code",
   "execution_count": null,
   "metadata": {
    "collapsed": true
   },
   "outputs": [],
   "source": [
    "# 9498번 문제: 시험 점수를 입력받아 90 ~ 100점은 A, 80 ~ 89점은 B, 70 ~ 79점은 C, 60 ~ 69점은 D, 나머지 점수는 F를 출력하는 프로그램을 작성하시오.\n",
    "# 첫째 줄에 시험 점수가 주어진다. 시험 점수는 0보다 크거나 같고, 100보다 작거나 같은 자연수이다.\n",
    "\n",
    "s = int(input())\n",
    "if 100 >= s >= 90:\n",
    "    print(\"A\")\n",
    "elif 89 >= s >= 80:\n",
    "    print(\"B\")\n",
    "elif 79 >= s >= 70:\n",
    "    print(\"C\")\n",
    "elif 69 >= s >= 60:\n",
    "    print(\"D\")\n",
    "else:\n",
    "    print(\"F\")\n",
    "    \n",
    "# 다른 해답\n",
    "# print(\"FFFFFFDCBAA\"[int(input())//10])"
   ]
  },
  {
   "cell_type": "code",
   "execution_count": null,
   "metadata": {
    "collapsed": true
   },
   "outputs": [],
   "source": [
    "# 10817번 문제: 세 정수 A, B, C가 주어진다. 이 때, 두 번째로 큰 정수를 출력하는 프로그램을 작성하시오. \n",
    "# 첫째 줄에 세 정수 A, B, C가 공백으로 구분되어 주어진다. (1 ≤ A, B, C ≤ 100)\n",
    "# 두 번째로 큰 정수를 출력한다.\n",
    "\n",
    "#1차 제출 -> 틀림\n",
    "print(sorted(input().split())[1])\n",
    "\n",
    "#2차 제출 -> 틀림\n",
    "print(sorted(input().split(), reverse=True)[1])\n",
    "\n",
    "#3차 제출 -> 틀림\n",
    "print(sorted(input().split())[-2])\n",
    "\n",
    "#4차 제출 - 정답. 인티거로 바꿔주지 않아 100이 제대로 비교되지 않음 \n",
    "print(sorted(map(int,(input().split())))[1])"
   ]
  },
  {
   "cell_type": "code",
   "execution_count": null,
   "metadata": {
    "collapsed": true
   },
   "outputs": [],
   "source": [
    "# 10871번 문제: 정수 N개로 이루어진 수열 A와 정수 X가 주어진다. 이 때, A에서 X보다 작은 수를 모두 출력하는 프로그램을 작성하시오.\n",
    "# 첫째 줄에 N과 X가 주어진다. (1 ≤ N, X ≤ 10,000)\n",
    "# 둘째 줄에 수열 A를 이루는 정수 N개가 주어진다. 주어지는 정수는 모두 1보다 크거나 같고, 10,000보다 작거나 같은 정수이다.\n",
    "# X보다 작은 수를 입력받은 순서대로 공백으로 구분해 출력한다. X보다 작은 수는 적어도 하나 존재한다.\n",
    "\n",
    "#1차 제출 -> 출력 초과 - 중간의 테스트용 프린트를 삭제하지 않았음\n",
    "N, X = map(int, input().split())\n",
    "A = list(map(int, input().split()))\n",
    "print(N)\n",
    "print(X)\n",
    "print(A)\n",
    "a = []\n",
    "for i in range(N):\n",
    "    if A[i] < X:\n",
    "        a.append(str(A[i]))\n",
    "print(' '.join(a))\n",
    "\n",
    "#2차 제출 \n",
    "N, X = map(int, input().split())\n",
    "A = list(map(int, input().split()))\n",
    "a = []\n",
    "for i in range(N):\n",
    "    if A[i] < X:\n",
    "        a.append(str(A[i]))\n",
    "print(' '.join(a))\n",
    "\n",
    "#다른 해답\n",
    "N,X=input().split();print(*(t for t in input().split()if int(t)<int(X)))"
   ]
  },
  {
   "cell_type": "code",
   "execution_count": null,
   "metadata": {
    "collapsed": true
   },
   "outputs": [],
   "source": [
    "# 1546번 문제: 세준이는 기말고사를 망쳤다. 세준이는 점수를 조작해서 집에 가져가기로 했다. 일단 세준이는 자기 점수 중에 최대값을 골랐다. 이 값을 M이라고 한다. 그리고 나서 모든 점수를 점수/M*100으로 고쳤다.\n",
    "# 예를 들어, 세준이의 최고점이 70이고, 수학점수가 50이었으면 수학점수는 50/70*100이 되어 71.43점이 된다.\n",
    "# 세준이의 성적을 위의 방법대로 새로 계산했을 때, 새로운 평균을 구하는 프로그램을 작성하시오.\n",
    "# 첫째 줄에 시험 본 과목의 개수 N이 주어진다. 이 값은 1000보다 작거나 같다. 둘째 줄에 세준이의 현재 성적이 주어진다. 이 값은 100보다 작거나 같은 음이 아닌 정수이고, 적어도 하나의 값은 0보다 크다.\n",
    "# 첫째 줄에 새로운 평균을 출력한다. 정답과의 절대/상대 오차는 10-2까지 허용한다.\n",
    "N = int(input())\n",
    "S = list(map(float, input().split()))\n",
    "M = max(S)\n",
    "for i in range(N):S[i] = S[i]/M*100\n",
    "print(sum(S)/N)\n",
    "\n",
    "#다른 해답\n",
    "I=input;I();*s,=map(int,I().split());I('%.2f'%(sum(s)*100/len(s)/max(s)))"
   ]
  },
  {
   "cell_type": "code",
   "execution_count": null,
   "metadata": {
    "collapsed": true
   },
   "outputs": [],
   "source": [
    "# 4344번 문제: 대학생 새내기들의 90%는 자신이 반에서 평균은 넘는다고 생각한다. 당신은 그들에게 슬픈 진실을 알려줘야 한다.\n",
    "# 첫째 줄에는 테스트케이스 C가 주어진다.\n",
    "# 둘째 줄부터 각 테스트케이스 마다 첫 수로 정수 N(1 <= N <= 1000)명의 학생이 주어지고 그 다음으로 N명의 0부터 100 사이의 점수가 이어서 주어진다.\n",
    "# 각 케이스마다 한줄씩 평균을 넘는 학생들의 비율을 소수점 넷째자리에서 반올림하여 출력한다.\n",
    "\n",
    "for i in range(int(input())):\n",
    "    c = list(map(int, input().split()))\n",
    "    m = len(c)-1\n",
    "    a = sum(c[1:])/m\n",
    "    o = 0\n",
    "    for i in range(m):\n",
    "        if c[i+1] > a:\n",
    "            o += 1\n",
    "    r = o/m*100\n",
    "    print('%.3f'%r+'%')\n",
    "    \n",
    "#다른 해답\n",
    "exec(\"N,*S=map(int,input().split());print('%.3f%%'%(100*sum(N*s>sum(S)for s in S)/N));\"*int(input()))"
   ]
  },
  {
   "cell_type": "code",
   "execution_count": null,
   "metadata": {
    "collapsed": true
   },
   "outputs": [],
   "source": [
    "# 1110번 문제: 0보다 크거나 같고, 99보다 작거나 같은 정수가 주어질 때 다음과 같은 연산을 할 수 있다. \n",
    "# 먼저 주어진 수가 10보다 작다면 앞에 0을 붙여 두 자리 수로 만들고, 각 자리의 숫자를 더한다. \n",
    "# 그 다음, 주어진 수의 가장 오른쪽 자리 숫자와 앞에서 구한 합의 가장 오른쪽 자리 숫자를 이어 붙이면 새로운 수를 만들 수 있다. \n",
    "# 다음 예를 보자. 26부터 시작한다. 2+6 = 8이다. 새로운 숫자는 68이다. 6+8 = 14이다. 새로운 숫자는 84이다. 8+4 = 12이다. \n",
    "# 새로운 숫자는 42이다. 4+2 = 6이다. 새로운 숫자는 26이다.\n",
    "# 위의 예는 4번만에 원래 숫자로 돌아올 수 있다. 따라서 26의 사이클의 길이는 4이다.\n",
    "# N이 주어졌을 때, N의 사이클의 길이를 구하는 프로그램을 작성하시오.\n",
    "\n",
    "#1차 제출 -> 시간초과\n",
    "G = input()\n",
    "c = 0\n",
    "N = G\n",
    "while 1:\n",
    "    c += 1\n",
    "    if len(N) == 1:\n",
    "        N = \"0\"+N\n",
    "    a = int(N[0]) + int(N[-1])\n",
    "    N = N[-1]+str(a)[-1]\n",
    "    if N == G:\n",
    "        break\n",
    "print(c)\n",
    "\n",
    "#2차 제출 -> 마지막의 비교를 str -> int 비교로 바꿈\n",
    "G = input()\n",
    "c = 0\n",
    "N = G\n",
    "while 1:\n",
    "    c += 1\n",
    "    if len(N) == 1:\n",
    "        N = \"0\"+N\n",
    "    a = int(N[0]) + int(N[-1])\n",
    "    N = N[-1]+str(a)[-1]\n",
    "    if int(N) == int(G):\n",
    "        break\n",
    "print(c)\n",
    "\n",
    "#다른 해답\n",
    "r=N=int(input());c=0\n",
    "while (c<1)+r-N:c+=1;N=N%10*10+N*11//10%10\n",
    "print(c)"
   ]
  },
  {
   "cell_type": "markdown",
   "metadata": {},
   "source": [
    "# 18.04.10 5단계: 함수 사용하기"
   ]
  },
  {
   "cell_type": "code",
   "execution_count": null,
   "metadata": {
    "collapsed": true
   },
   "outputs": [],
   "source": [
    "# 4673번 문제\n",
    "# 셀프 넘버는 1949년 인도 수학자 D.R. Kaprekar가 이름 붙였다. 양의 정수 n에 대해서 d(n)을 n과 n의 각 자리수를 더하는 함수라고 정의하자. \n",
    "# 예를 들어, d(75) = 75+7+5 = 87이다.양의 정수 n이 주어졌을 때, 이 수를 시작해서 n, d(n), d(d(n)), d(d(d(n))), ...과 같은 무한 수열을 만들 수 있다. \n",
    "# 예를 들어, 33으로 시작한다면 다음 수는 33 + 3 + 3 = 39이고, 그 다음 수는 39 + 3 + 9 = 51, 다음 수는 51 + 5 + 1 = 57이다. \n",
    "# 이런식으로 다음과 같은 수열을 만들 수 있다. 33, 39, 51, 57, 69, 84, 96, 111, 114, 120, 123, 129, 141, ...\n",
    "# n을 d(n)의 생성자라고 한다. 위의 수열에서 33은 39의 생성자이고, 39는 51의 생성자, 51은 57의 생성자이다. 생성자가 한 개보다 많은 경우도 있다. 예를 들어, 101은 생성자가 2개(91과 100) 있다. \n",
    "# 생성자가 없는 숫자를 셀프 넘버라고 한다. 100보다 작은 셀프 넘버는 총 13개가 있다. 1, 3, 5, 7, 9, 20, 31, 42, 53, 64, 75, 86, 97\n",
    "# 10000보다 작거나 같은 셀프 넘버를 한 줄에 하나씩 출력하는 프로그램을 작성하시오.\n",
    "# 10,000보다 작거나 같은 셀프 넘버를 한 줄에 하나씩 증가하는 순서로 출력한다.\n",
    "\n",
    "selfnum = []\n",
    "for i in range(1, 10001):\n",
    "    a = 0\n",
    "    for j in range(len(str(i))):\n",
    "        a += int(str(i)[j])\n",
    "    selfnum.append(i+a)\n",
    "    if i not in selfnum:\n",
    "        print(i)\n",
    "\n",
    "#다른 해답\n",
    "r=range(9999)\n",
    "print(*sorted({*r}-{n+sum(map(int,str(n)))for n in r}))"
   ]
  },
  {
   "cell_type": "code",
   "execution_count": null,
   "metadata": {
    "collapsed": true
   },
   "outputs": [],
   "source": [
    "# 1065번 문제\n",
    "# 어떤 양의 정수 X의 자리수가 등차수열을 이룬다면, 그 수를 한수라고 한다. 등차수열은 연속된 두 개의 수의 차이가 일정한 수열을 말한다. N이 주어졌을 때, 1보다 크거나 같고, N보다 작거나 같은 한수의 개수를 출력하는 프로그램을 작성하시오. \n",
    "# 첫째 줄에 1,000보다 작거나 같은 자연수 N이 주어진다.\n",
    "# 첫째 줄에 1보다 크거나 같고, N보다 작거나 같은 한수의 개수를 출력한다.\n",
    "\n",
    "def checker(num):\n",
    "    D = [int(i) for i in str(num)]\n",
    "    dif = D[0] - D[1]\n",
    "    n = len(D)-1\n",
    "    while n:\n",
    "        if D[n-1] - D[n] == dif:\n",
    "            n -= 1\n",
    "        else:\n",
    "            return False\n",
    "            break\n",
    "    \n",
    "    return True\n",
    "\n",
    "N = input()\n",
    "L = len(N)\n",
    "if L < 3:\n",
    "    result = int(N)\n",
    "\n",
    "if L > 2:\n",
    "    result = 99\n",
    "    for i in range(99, int(N)):\n",
    "        if checker(i+1):\n",
    "            result += 1\n",
    "\n",
    "print(result)\n",
    "\n",
    "#다른 해답\n",
    "print(sum(((i//100+i%10)/2==i//10%10) | (i<100)for i in range(1,int(input())+1)))"
   ]
  },
  {
   "cell_type": "code",
   "execution_count": null,
   "metadata": {
    "collapsed": true
   },
   "outputs": [],
   "source": [
    "00100\n",
    "01010\n",
    "11111\n",
    "\n",
    "3 - 3\n",
    "6 - 9\n",
    "12 - 27\n",
    "\n",
    "3*2^k = 3^k"
   ]
  },
  {
   "cell_type": "markdown",
   "metadata": {},
   "source": [
    "# 18.04.11 5단계: 함수 사용하기(이어서)"
   ]
  },
  {
   "cell_type": "code",
   "execution_count": null,
   "metadata": {
    "collapsed": true
   },
   "outputs": [],
   "source": [
    "# 2448번 문제\n",
    "# 예제를 보고 별찍는 규칙을 유추한 뒤에 별을 찍어 보세요.\n",
    "# 첫째 줄에 N이 주어진다. N은 항상 3*2^k 수이다. (3, 6, 12, 24, 48, ...) (k<=10)\n",
    "# 첫째 줄부터 N번째 줄까지 별을 출력한다.\n",
    "\n",
    "# 24 입력시 출력 예제\n",
    "\n",
    "#                        *                        \n",
    "#                       * *                       \n",
    "#                      *****                      \n",
    "#                     *     *                     \n",
    "#                    * *   * *                    \n",
    "#                   ***** *****                   \n",
    "#                  *           *                  \n",
    "#                 * *         * *                 \n",
    "#                *****       *****                \n",
    "#               *     *     *     *               \n",
    "#              * *   * *   * *   * *              \n",
    "#             ***** ***** ***** *****             \n",
    "#            *                       *            \n",
    "#           * *                     * *           \n",
    "#          *****                   *****          \n",
    "#         *     *                 *     *         \n",
    "#        * *   * *               * *   * *        \n",
    "#       ***** *****             ***** *****       \n",
    "#      *           *           *           *      \n",
    "#     * *         * *         * *         * *     \n",
    "#    *****       *****       *****       *****    \n",
    "#   *     *     *     *     *     *     *     *   \n",
    "#  * *   * *   * *   * *   * *   * *   * *   * *  \n",
    "# ***** ***** ***** ***** ***** ***** ***** *****\n"
   ]
  },
  {
   "cell_type": "code",
   "execution_count": null,
   "metadata": {
    "collapsed": true
   },
   "outputs": [],
   "source": [
    "N = int(input())\n",
    "\n",
    "for i in range(N):\n",
    "    \n",
    "\n",
    "3 - 5 = 3 / 2, 4 / 12345\n",
    "6 - 11 = 3, 11-2 / 2, 4, 2+6, 4+6  / 12345 +6\n",
    "12 - 23 = 6, 6+11\n",
    "24 - 47"
   ]
  },
  {
   "cell_type": "markdown",
   "metadata": {},
   "source": [
    "# 18.04.12 6단계: 1차원 배열 사용하기"
   ]
  },
  {
   "cell_type": "code",
   "execution_count": null,
   "metadata": {
    "collapsed": true
   },
   "outputs": [],
   "source": [
    "# 1152번 문제\n",
    "# 영어 대소문자와 띄어쓰기만으로 이루어진 문장이 주어진다. 이 문장에는 몇 개의 단어가 있을까? 이를 구하는 프로그램을 작성하시오.\n",
    "# 첫 줄에 영어 대소문자와 띄어쓰기로 이루어진 문장이 주어진다. 이 문장의 길이는 1,000,000을 넘지 않는다. 단어는 띄어쓰기 한 개로 구분되며, 공백이 연속해서 나오는 경우는 없다.\n",
    "# 첫째 줄에 단어의 개수를 출력한다.\n",
    "\n",
    "print(len(input().split()))"
   ]
  },
  {
   "cell_type": "code",
   "execution_count": null,
   "metadata": {
    "collapsed": true
   },
   "outputs": [],
   "source": [
    "print(150*266*427)"
   ]
  },
  {
   "cell_type": "code",
   "execution_count": null,
   "metadata": {
    "collapsed": true
   },
   "outputs": [],
   "source": [
    "# 2577번 문제\n",
    "# 세 개의 자연수 A, B, C가 주어질 때 A×B×C를 계산한 결과에 0부터 9까지 각각의 숫자가 몇 번씩 쓰였는지를 구하는 프로그램을 작성하시오.\n",
    "# 예를 들어 A = 150, B = 266, C = 427 이라면 \n",
    "# A × B × C = 150 × 266 × 427 = 17037300 이 되고, \n",
    "# 계산한 결과 17037300 에는 0이 3번, 1이 1번, 3이 2번, 7이 2번 쓰였다.\n",
    "# 첫째 줄에 A, 둘째 줄에 B, 셋째 줄에 C가 주어진다. A, B, C는 모두 100보다 같거나 크고, 1,000보다 작은 자연수이다.\n",
    "# 첫째 줄에는 A×B×C의 결과에 0 이 몇 번 쓰였는지 출력한다. 마찬가지로 둘째 줄부터 열 번째 줄까지 A×B×C의 결과에 1부터 9까지의 숫자가 각각 몇 번 쓰였는지 차례로 한 줄에 하나씩 출력한다.\n",
    "\n",
    "A = int(input())\n",
    "B = int(input())\n",
    "C = int(input())\n",
    "\n",
    "result = str(A*B*C)\n",
    "\n",
    "for i in range(10):\n",
    "    match = 0\n",
    "    for j in range(len(result)):\n",
    "        if int(result[j]) == i:\n",
    "            match += 1\n",
    "    print(match)\n",
    "\n",
    "#다른 해답\n",
    "m=1;exec(3*'m*=int(input());')\n",
    "for i in range(10):print(str(m).count(str(i)))"
   ]
  },
  {
   "cell_type": "code",
   "execution_count": null,
   "metadata": {
    "collapsed": true
   },
   "outputs": [],
   "source": [
    "# 8958번 문제\n",
    "# \"OOXXOXXOOO\"와 같은 OX퀴즈의 결과가 있다. O는 문제를 맞은 것이고, X는 문제를 틀린 것이다. 문제를 맞은 경우 그 문제의 점수는 그 문제까지 연속된 O의 개수가 된다. 예를 들어, 10번 문제의 점수는 3이 된다.\n",
    "# \"OOXXOXXOOO\"의 점수는 1+2+0+0+1+0+0+1+2+3 = 10점이다.\n",
    "# OX퀴즈의 결과가 주어졌을 때, 점수를 구하는 프로그램을 작성하시오.\n",
    "# 첫째 줄에 테스트 케이스의 개수가 주어진다. 각 테스트 케이스는 한 줄로 이루어져 있고, 길이가 0보다 크고 80보다 작은 문자열이 주어진다. 문자열은 O와 X만으로 이루어져 있다.\n",
    "# 각 테스트 케이스마다 점수를 출력한다.\n",
    "for i in range(int(input())):\n",
    "    score = 0\n",
    "    streak = 0\n",
    "    for j in input():\n",
    "        if j == 'O':\n",
    "            streak += 1\n",
    "            score += streak\n",
    "        else:\n",
    "            streak = 0\n",
    "    print(score)\n",
    "\n",
    "#다른 해답\n",
    "exec(\"print(sum([n*-~n//2for n in map(len,input().split('X'))]));\"*int(input()))"
   ]
  },
  {
   "cell_type": "code",
   "execution_count": null,
   "metadata": {
    "collapsed": true,
    "scrolled": true
   },
   "outputs": [],
   "source": [
    "# 2920번 문제\n",
    "# 다장조는 c d e f g a b C, 총 8개 음으로 이루어져있다. 이 문제에서 8개 음은 다음과 같이 숫자로 바꾸어 표현한다. c는 1로, d는 2로, ..., C를 8로 바꾼다.\n",
    "# 1부터 8까지 차례대로 연주한다면 ascending, 8부터 1까지 차례대로 연주한다면 descending, 둘 다 아니라면 mixed 이다.\n",
    "# 연주한 순서가 주어졌을 때, 이것이 ascending인지, descending인지, 아니면 mixed인지 판별하는 프로그램을 작성하시오.\n",
    "# 첫째 줄에 8개 숫자가 주어진다. 이 숫자는 문제 설명에서 설명한 음이며, 1부터 8까지 숫자가 한 번씩 등장한다.\n",
    "# 첫째 줄에 ascending, descending, mixed 중 하나를 출력한다.\n",
    "\n",
    "c = input()\n",
    "if c == '1 2 3 4 5 6 7 8':\n",
    "    print('ascending')\n",
    "elif c == '8 7 6 5 4 3 2 1':\n",
    "    print('descending')\n",
    "else:\n",
    "    print('mixed')\n",
    "\n",
    "# 다른 해답\n",
    "a=input()[2::2];print({a:\"mixed\",\"2345678\":\"ascending\",\"7654321\":\"descending\"}[a])"
   ]
  },
  {
   "cell_type": "code",
   "execution_count": null,
   "metadata": {
    "collapsed": true,
    "scrolled": true
   },
   "outputs": [],
   "source": [
    "# 10039번 문제\n",
    "# 상현이가 가르치는 아이폰 앱 개발 수업의 수강생은 원섭, 세희, 상근, 숭, 강수이다.\n",
    "# 어제 이 수업의 기말고사가 있었고, 상현이는 지금 학생들의 기말고사 시험지를 채점하고 있다. 기말고사 점수가 40점 이상인 학생들은 그 점수 그대로 자신의 성적이 된다. \n",
    "# 하지만, 40점 미만인 학생들은 보충학습을 듣는 조건을 수락하면 40점을 받게 된다. 보충학습은 거부할 수 없기 때문에, 40점 미만인 학생들은 항상 40점을 받게 된다.\n",
    "# 학생 5명의 점수가 주어졌을 때, 평균 점수를 구하는 프로그램을 작성하시오.\n",
    "# 입력은 총 5줄로 이루어져 있고, 원섭이의 점수, 세희의 점수, 상근이의 점수, 숭이의 점수, 강수의 점수가 순서대로 주어진다.\n",
    "# 점수는 모두 0점 이상, 100점 이하인 5의 배수이다. 따라서, 평균 점수는 항상 정수이다. \n",
    "# 첫째 줄에 학생 5명의 평균 점수를 출력한다.\n",
    "score = 0\n",
    "for i in range(5):\n",
    "    s = int(input())\n",
    "    if s >= 40:\n",
    "        score += s\n",
    "    else:\n",
    "        score += 40\n",
    "print(int(score/5))\n",
    "\n",
    "# 다른 해답\n",
    "print(eval(\"+max(8,int(input())//5)\"*5))"
   ]
  },
  {
   "cell_type": "markdown",
   "metadata": {},
   "source": [
    "# 18.04.17 7단계: 문자열 사용하기"
   ]
  },
  {
   "cell_type": "code",
   "execution_count": null,
   "metadata": {
    "collapsed": true
   },
   "outputs": [],
   "source": [
    "# 11654번 문제\n",
    "# 알파벳 소문자, 대문자, 숫자 0-9중 하나가 주어졌을 때, 주어진 글자의 아스키 코드값을 출력하는 프로그램을 작성하시오.\n",
    "# 알파벳 소문자, 대문자, 숫자 0-9 중 하나가 첫째 줄에 주어진다.\n",
    "# 입력으로 주어진 글자의 아스키 코드 값을 출력한다.\n",
    "\n",
    "print(ord(input()))"
   ]
  },
  {
   "cell_type": "code",
   "execution_count": null,
   "metadata": {
    "collapsed": true
   },
   "outputs": [],
   "source": [
    "# 10809번 문제\n",
    "# 알파벳 소문자로만 이루어진 단어 S가 주어진다. \n",
    "# 각각의 알파벳에 대해서, 단어에 포함되어 있는 경우에는 처음 등장하는 위치를, 포함되어 있지 않은 경우에는 -1을 출력하는 프로그램을 작성하시오.\n",
    "# 첫째 줄에 단어 S가 주어진다. 단어의 길이는 100을 넘지 않으며, 알파벳 소문자로만 이루어져 있다.\n",
    "# 각각의 알파벳에 대해서, a가 처음 등장하는 위치, b가 처음 등장하는 위치, ... z가 처음 등장하는 위치를 공백으로 구분해서 출력한다.\n",
    "# 만약, 어떤 알파벳이 단어에 포함되어 있지 않다면 -1을 출력한다. 단어의 첫 번째 글자는 0번째 위치이고, 두 번째 글자는 1번째 위치이다.\n",
    "word=input()\n",
    "result = []\n",
    "for i in range(97, 123):\n",
    "    result.append(str(word.find(chr(i))))\n",
    "print(' '.join(result))\n",
    "\n",
    "#다른 해답\n",
    "print(*map(input().find,map(chr,range(97,123))))"
   ]
  },
  {
   "cell_type": "code",
   "execution_count": null,
   "metadata": {
    "collapsed": true,
    "scrolled": true
   },
   "outputs": [],
   "source": [
    "# 2675번 문제\n",
    "# 문자열 S를 입력받은 후에, 각 문자를 R번 반복해 새 문자열 T를 만든 후 출력하는 프로그램을 작성하시오.\n",
    "# 다시 설명하자면, 첫 번째 문자를 R번 반복하고, 두 번째 문자를 R번 반복하는 식으로 T를 만들면 된다. \n",
    "# S에는 QR Code \"alphanumeric\" 문자만 들어있다.\n",
    "# QR Code \"alphanumeric\" 문자는 0123456789ABCDEFGHIJKLMNOPQRSTUVWXYZ$%*+-./: 이다.\n",
    "# 첫째 줄에 테스트 케이스의 개수 T(1 <= T <= 1,000)가 주어진다. 각 테스트 케이스는  반복 횟수 R(1 <= R <= 8), 문자열 S가 공백으로 구분되어 주어진다. S의 길이는 적어도 1이며, 20글자를 넘지 않는다. \n",
    "# 각 테스트 케이스에 대해 T를 출력한다.\n",
    "\n",
    "for i in range(int(input())):\n",
    "    rpt, line = input().split()\n",
    "    result = []\n",
    "    for char in line:\n",
    "        result.append(char*int(rpt))\n",
    "    print(''.join(result))\n",
    "\n",
    "# 다른 해답\n",
    "exec(\"r,_,*s=input();print(''.join(i*int(r)for i in s));\"*int(input()))"
   ]
  },
  {
   "cell_type": "code",
   "execution_count": null,
   "metadata": {
    "collapsed": true,
    "scrolled": true
   },
   "outputs": [],
   "source": [
    "# 1157번 문제\n",
    "# 알파벳 대소문자로 된 단어가 주어지면, 이 단어에서 가장 많이 사용된 알파벳이 무엇인지 알아내는 프로그램을 작성하시오. 단, 대문자와 소문자를 구분하지 않는다.\n",
    "# 첫째 줄에 알파벳 대소문자로 이루어진 단어가 주어진다. 주어지는 단어의 길이는 1,000,000을 넘지 않는다.\n",
    "# 첫째 줄에 이 단어에서 가장 많이 사용된 알파벳을 대문자로 출력한다. 단, 가장 많이 사용된 알파벳이 여러 개 존재하는 경우에는 ?를 출력한다.\n",
    "\n",
    "#1차 제출 -> 시간초과\n",
    "# word = [c for c in input().upper()]\n",
    "# top = ['',0,False]\n",
    "# for c in word:\n",
    "#     n = word.count(c)\n",
    "#     if n > top[1]:\n",
    "#         top[0] = c\n",
    "#         top[1] = n\n",
    "#         top[2] = False\n",
    "    \n",
    "#     elif n == top[1] and c != top[0]:\n",
    "#         top[2] = True\n",
    "\n",
    "# if top[2] == True:\n",
    "#     print('?')\n",
    "# else:\n",
    "#     print(top[0])\n",
    "\n",
    "#2차 제출 - for문을 2번도는게 느린게 아닐까? 1번으로 수정 -> 시간초과\n",
    "# w = input().upper()\n",
    "# t = ['',0,False]\n",
    "# for c in w:\n",
    "#     n = w.count(c)\n",
    "#     if n > t[1]:\n",
    "#         t[0] = c\n",
    "#         t[1] = n\n",
    "#         t[2] = False\n",
    "    \n",
    "#     elif n == t[1] and c != t[0]:\n",
    "#         t[2] = True\n",
    "\n",
    "# if t[2] == True:\n",
    "#     print('?')\n",
    "# else:\n",
    "#     print(t[0])\n",
    "    \n",
    "#3차제출\n",
    "w = input().upper()\n",
    "s = set(w)\n",
    "t = ['',0, False]\n",
    "for c in s:\n",
    "    n = w.count(c)\n",
    "    if n > t[1]:\n",
    "        t[0] = c\n",
    "        t[1] = n\n",
    "        t[2] = False\n",
    "    elif n == t[1]:\n",
    "        t[2] = True\n",
    "        \n",
    "if t[2] == True:\n",
    "    print('?')\n",
    "else:\n",
    "    print(t[0])   \n",
    "\n",
    "# 다른 해답\n",
    "s=input().upper();c=s.count;*_,a,b=v=sorted({*s,'?'},key=c);print(v[-(c(a)<c(b))])"
   ]
  },
  {
   "cell_type": "code",
   "execution_count": null,
   "metadata": {
    "collapsed": true
   },
   "outputs": [],
   "source": [
    "# 1316번 문제\n",
    "# 그룹 단어란 단어에 존재하는 모든 문자에 대해서, 각 문자가 연속해서 나타나는 경우만을 말한다. \n",
    "# 예를 들면, ccazzzzbb는 c, a, z, b가 모두 연속해서 나타나고, kin도 k, i, n이 연속해서 나타나기 때문에 그룹 단어이지만, \n",
    "# aabbbccb는 b가 떨어져서 나타나기 때문에 그룹 단어가 아니다.\n",
    "# 단어 N개를 입력으로 받아 그룹 단어의 개수를 출력하는 프로그램을 작성하시오.\n",
    "# 첫째 줄에 단어의 개수 N이 들어온다. N은 100보다 작거나 같은 자연수이다. 둘째줄부터 N개의 줄에 단어가 들어온다. \n",
    "# 단어는 알파벳 소문자로만 되어있고 중복되지 않으며, 길이는 최대 100이다.\n",
    "# 첫째 줄에 그룹 단어의 개수를 출력한다.\n",
    "\n",
    "t=0\n",
    "for i in range(int(input())):\n",
    "    w=input()\n",
    "    s=set(w)\n",
    "    g=True\n",
    "    for c in s:\n",
    "        n=w.count(c)\n",
    "        if c*n not in w:\n",
    "            g=False\n",
    "            break\n",
    "    if g==True:\n",
    "        t+=1\n",
    "print(t)\n",
    "\n",
    "#다른 해답\n",
    "r=0;exec('s=input();r+=[*s]==sorted(s,key=s.find);'*int(input()));print(r)"
   ]
  },
  {
   "cell_type": "code",
   "execution_count": null,
   "metadata": {
    "collapsed": true,
    "scrolled": true
   },
   "outputs": [],
   "source": [
    "# 2908번 문제\n",
    "# 상근이의 동생 상수는 수학을 정말 못한다. 상수는 숫자를 읽는데 문제가 있다. 이렇게 수학을 못하는 상수를 위해서 상근이는 수의 크기를 비교하는 문제를 내주었다. 상근이는 세 자리 숫자 두 개를 칠판에 써주었다. \n",
    "# 그 다음에 크기가 큰 수를 말해보라고 했다.상수는 수를 다른사람과 다르게 거꾸로 읽는다. 예를 들어, 734과 893을 칠판에 적었다면, 상수는 이 수를 437과 398로 읽는다. 따라서, 상수는 두 수중 큰 수인 437을 큰 수라고 말할 것이다.\n",
    "# 두 수가 주어졌을 때, 상수의 대답을 출력하는 프로그램을 작성하시오.\n",
    "# 첫째 줄에 상근이가 칠판에 적은 두 수 A와 B가 주어진다. 두 수는 같지 않은 세 자리 수이며, 0이 포함되어 있지 않다.\n",
    "# 첫째 줄에 상수의 대답을 출력한다.\n",
    "\n",
    "a, b = input().split()\n",
    "n1 = []\n",
    "n2 = []\n",
    "for i in range(len(a)):\n",
    "    n1.append(a[-i-1])\n",
    "\n",
    "for i in range(len(b)):\n",
    "    n2.append(b[-i-1])\n",
    "    \n",
    "n1 = int(''.join(n1))\n",
    "n2 = int(''.join(n2))\n",
    "\n",
    "if n1 > n2:\n",
    "    print(int(n1))\n",
    "else:\n",
    "    print(int(n2))\n",
    "\n",
    "#다른 해답 -> 거꾸로 만드는 인덱싱은 익혀두자\n",
    "print(max(input()[::-1].split()))"
   ]
  },
  {
   "cell_type": "code",
   "execution_count": null,
   "metadata": {
    "collapsed": true
   },
   "outputs": [],
   "source": [
    "# 5622번 문제\n",
    "# 상근이의 할머니는 아래 그림과 같이 오래된 다이얼 전화기를 사용한다.\n",
    "# 전화를 걸고 싶은 번호가 있다면, 숫자를 하나를 누른 다음에 금속 핀이 있는 곳 까지 시계방향으로 돌려야 한다. 다른 숫자를 누르려면 다이얼이 원래 위치로 돌아가기를 기다려야 한다.\n",
    "# 숫자 1을 걸려면 총 2초가 필요하다. 1보다 큰 수를 거는데 걸리는 시간은 이보다 더 걸리며, 한 칸 옆에 있는 숫자를 걸기 위해선 1초씩 더 걸린다.\n",
    "# 상근이의 할머니는 전화 번호를 각 숫자에 해당하는 문자로 외운다. 즉, 어떤 단어를 걸 때, 각 알파벳에 해당하는 숫자를 걸면 된다. 예를 들어, UNUCIC는 868242와 같다.\n",
    "# 할머니가 외운 단어가 주어졌을 때, 이 전화를 걸기 위해서 필요한 시간을 구하는 프로그램을 작성하시오.\n",
    "# 첫째 줄에 알파벳 대문자로 이루어진 단어가 주어진다. 단어는 2글자~15글자로 이루어져 있다.\n",
    "# 첫째 줄에 다이얼을 걸기 위해서 필요한 시간을 출력한다.\n",
    "\n",
    "t=0\n",
    "e = ['S','V','Y','Z']\n",
    "for c in input():\n",
    "    t+=((ord(c)-59)//3)+1\n",
    "    if c in e:\n",
    "        t-=1\n",
    "print(t)\n",
    "\n",
    "#다른 해답\n",
    "print(sum(min(ord(c)-64,25)*28//89+3for c in input()))"
   ]
  },
  {
   "cell_type": "code",
   "execution_count": null,
   "metadata": {
    "collapsed": true,
    "scrolled": true
   },
   "outputs": [],
   "source": [
    "# 2941번 문제\n",
    "# 예전에는 운영체제에서 크로아티아 알파벳을 입력할 수가 없었다. 따라서, 다음과 같이 크로아티아 알파벳을 다음과 같이 변경해서 입력했다.\n",
    "# 예를 들어, ljes=njak은 크로아티아 알파벳 6개(lj, e, š, nj, a, k)로 이루어져 있다. 단어가 주어졌을 때, 몇 개의 크로아티아 알파벳으로 이루어져 있는지 출력한다.\n",
    "# dž는 무조건 하나의 알파벳으로 쓰이고, d와 ž가 분리된 것으로 보지 않는다. lj와 nj도 마찬가지이다. 위 목록에 없는 알파벳은 한 글자씩 센다.\n",
    "# 첫째 줄에 최대 100글자의 단어가 주어진다. 알파벳 소문자와 '-', '='로만 이루어져 있다.\n",
    "# 문제 설명에 나와있는 크로아티아 알파벳만 주어진다.\n",
    "# 입력으로 주어진 단어가 몇 개의 크로아티아 알파벳으로 이루어져 있는지 출력한다.\n",
    "\n",
    "# 크로아티아 알파벳\t변경\n",
    "# č\tc=\n",
    "# ć\tc-\n",
    "# dž\tdz=\n",
    "# ñ\td-\n",
    "# lj\tlj\n",
    "# nj\tnj\n",
    "# š\ts=\n",
    "# ž\tz=\n",
    "c = ['c=','c-','dz=','d-','lj','nj','s=','z=']\n",
    "w = input()\n",
    "for i in c:\n",
    "    if i in w:\n",
    "        w=w.replace(i,' ')\n",
    "print(len(w))\n",
    "\n",
    "#다른 해답\n",
    "c=input().count;print(c('')+~sum(map(c,['-','=','nj','lj','dz='])))"
   ]
  },
  {
   "cell_type": "markdown",
   "metadata": {},
   "source": [
    "# 18.04.18 8단계: 규칙 찾기"
   ]
  },
  {
   "cell_type": "code",
   "execution_count": null,
   "metadata": {
    "collapsed": true,
    "scrolled": false
   },
   "outputs": [],
   "source": [
    "# 2292번 문제 - 벌집\n",
    "# 위의 그림과 같이 육각형으로 이루어진 벌집이 있다. \n",
    "# 그림에서 보는 바와 같이 중앙의 방 1부터 시작해서 이웃하는 방에 돌아가면서 1씩 증가하는 번호를 주소로 매길 수 있다. \n",
    "# 숫자 N이 주어졌을 때, 벌집의 중앙 1에서 N번 방까지 최소 개수의 방을 지나서 갈 때 몇 개의 방을 지나가는지(시작과 끝을 포함하여)를 계산하는 프로그램을 작성하시오. \n",
    "# 예를 들면, 13까지는 3개, 58까지는 5개를 지난다.\n",
    "# 첫째 줄에 N(1 ≤ N ≤ 1,000,000,000)이 주어진다.\n",
    "# 입력으로 주어진 방까지 최소 개수의 방을 지나서 갈 때 몇 개의 방을 지나는지 출력한다.\n",
    "\n",
    "#1차 제출 -> 시간초과\n",
    "n=int(input())\n",
    "if n==1:\n",
    "    print(1)\n",
    "elif n > 1:\n",
    "    i=2\n",
    "    smaller=True\n",
    "    while smaller:\n",
    "        m=0\n",
    "        for j in range(1, i):\n",
    "            m+=j\n",
    "        if n < m*6+2:\n",
    "            print(i)\n",
    "            smaller=False\n",
    "        else:\n",
    "            i+=1\n",
    "            \n",
    "#2차 제출 - 불필요한 계산 제거\n",
    "n=int(input())\n",
    "over=True\n",
    "move=1\n",
    "room_range=0\n",
    "if n==1:\n",
    "    print(1)\n",
    "else:\n",
    "    while over:\n",
    "        room_range+=move\n",
    "        move+=1\n",
    "        if n < room_range*6+2:\n",
    "            print(move)\n",
    "            over=False\n",
    "\n",
    "#다른 해답\n",
    "print(int((int(input())/3-.1)**.5+1.5))\n",
    "\n",
    "#다른 해답\n",
    "n=int(input());s=1;c=1;\n",
    "while s<n:s+=c*6;c+=1\n",
    "print(c)"
   ]
  },
  {
   "cell_type": "markdown",
   "metadata": {},
   "source": [
    "# 18.04.19 8단계: 규칙 찾기"
   ]
  },
  {
   "cell_type": "code",
   "execution_count": null,
   "metadata": {
    "collapsed": true
   },
   "outputs": [],
   "source": [
    "# 1193번 문제 - 분수찾기\n",
    "# 무한히 큰 배열에 다음과 같이 분수들이 적혀있다.\n",
    "\n",
    "# 1/1\t1/2\t1/3\t1/4\t1/5\t…\n",
    "# 2/1\t2/2\t2/3\t2/4\t…\t…\n",
    "# 3/1\t3/2\t3/3\t…\t…\t…\n",
    "# 4/1\t4/2\t…\t…\t…\t…\n",
    "# 5/1\t…\t…\t…\t…\t…\n",
    "# …\t…\t…\t…\t…\t…\n",
    "# 이와 같이 나열된 분수들을 1/1 -> 1/2 -> 2/1 -> 3/1 -> 2/2 -> … 과 같은 순서로 차례대로 1번, 2번, 3번, 4번, 5번, … 분수라고 하자.\n",
    "\n",
    "# X가 주어졌을 때, X번째 분수를 구하는 프로그램을 작성하시오.\n",
    "\n",
    "# 입력\n",
    "# 첫째 줄에 X(1≤X≤10,000,000)가 주어진다.\n",
    "\n",
    "# 출력\n",
    "# 첫째 줄에 분수를 출력한다.\n",
    "\n",
    "x=1\n",
    "y=1\n",
    "n=int(input())\n",
    "up=0\n",
    "for i in range(n):\n",
    "    if (i+1)==n:\n",
    "        print(str(x)+'/'+str(y)) \n",
    "        break\n",
    "        \n",
    "    if x==1 and y%2==1:\n",
    "        y+=1\n",
    "        up=0\n",
    "    \n",
    "    elif y==1 and x%2==0:\n",
    "        x+=1\n",
    "        up=1\n",
    "    \n",
    "    elif up==0 and y!=1:\n",
    "        x+=1\n",
    "        y-=1\n",
    "        \n",
    "    elif up==1 and x!=1:\n",
    "        x-=1\n",
    "        y+=1\n",
    "\n",
    "#다른 해답\n",
    "k=int(input());n=1\n",
    "while k>n:k,n=k-n,n+1\n",
    "a,b=k,n-k+1\n",
    "if n%2==1:a,b=b,a\n",
    "print(str(a)+\"/\"+str(b))"
   ]
  },
  {
   "cell_type": "code",
   "execution_count": null,
   "metadata": {
    "collapsed": true
   },
   "outputs": [],
   "source": [
    "# 1011번 문제 - Fly me to the Alpha Centauri\n",
    "# 우현이는 어린 시절, 지구 외의 다른 행성에서도 인류들이 살아갈 수 있는 미래가 오리라 믿었다. \n",
    "# 그리고 그가 지구라는 세상에 발을 내려 놓은 지 23년이 지난 지금, 세계 최연소 ASNA 우주 비행사가 되어 새로운 세계에 발을 내려 놓는 영광의 순간을 기다리고 있다.\n",
    "# 그가 탑승하게 될 우주선은 Alpha Centauri라는 새로운 인류의 보금자리를 개척하기 위한 대규모 생활 유지 시스템을 탑재하고 있기 때문에, \n",
    "# 그 크기와 질량이 엄청난 이유로 최신기술력을 총 동원하여 개발한 공간이동 장치를 탑재하였다. \n",
    "# 하지만 이 공간이동 장치는 이동 거리를 급격하게 늘릴 경우 기계에 심각한 결함이 발생하는 단점이 있어서, 이전 작동시기에 k광년을 이동하였을 때는 k-1 , k 혹은 k+1 광년만을 다시 이동할 수 있다. \n",
    "# 예를 들어, 이 장치를 처음 작동시킬 경우 -1 , 0 , 1 광년을 이론상 이동할 수 있으나 사실상 음수 혹은 0 거리만큼의 이동은 의미가 없으므로 1 광년을 이동할 수 있으며, 그 다음에는 0 , 1 , 2 광년을 이동할 수 있는 것이다. \n",
    "# ( 여기서 다시 2광년을 이동한다면 다음 시기엔 1, 2, 3 광년을 이동할 수 있다. )\n",
    "# 김우현은 공간이동 장치 작동시의 에너지 소모가 크다는 점을 잘 알고 있기 때문에 x지점에서 y지점을 향해 최소한의 작동 횟수로 이동하려 한다. \n",
    "# 하지만 y지점에 도착해서도 공간 이동장치의 안전성을 위하여 y지점에 도착하기 바로 직전의 이동거리는 반드시 1광년으로 하려 한다.\n",
    "# 김우현을 위해 x지점부터 정확히 y지점으로 이동하는데 필요한 공간 이동 장치 작동 횟수의 최소값을 구하는 프로그램을 작성하라.\n",
    "# 입력의 첫 줄에는 테스트케이스의 개수 T가 주어진다. 각각의 테스트 케이스에 대해 현재 위치 x 와 목표 위치 y 가 정수로 주어지며, x는 항상 y보다 작은 값을 갖는다. ( 0 ≤ x < y < 231)\n",
    "# 각 테스트 케이스에 대해 x지점으로부터 y지점까지 정확히 도달하는데 필요한 최소한의 공간이동 장치 작동 회수를 출력한다.\n",
    "\n",
    "#1차 제출 -> 틀림\n",
    "for i in range(int(input())):\n",
    "    a, b=map(int, input().split())\n",
    "    x=b-a\n",
    "    y=int(x**0.5)\n",
    "    z=y**2\n",
    "    if x == 3:\n",
    "        print(3)\n",
    "    elif x != 3 and x == z or x > z+y:\n",
    "        print(2*y-1)   \n",
    "    elif x <= z+y:\n",
    "        print(2*y)\n",
    "        \n",
    "#2차 제출 \n",
    "for i in range(int(input())):\n",
    "    a, b=map(int, input().split())\n",
    "    x=b-a\n",
    "    y=int(x**0.5)\n",
    "    z=y**2\n",
    "    if x == z:\n",
    "        print(2*y-1)\n",
    "    elif x < (y+1)**2-y:\n",
    "        print(2*y)\n",
    "    else:\n",
    "        print(2*y+1)\n",
    "        \n",
    "#다른 해답\n",
    "exec('x,y=map(int,input().split());print(int(((y-x)*4-3)**.5));'*int(input()))"
   ]
  },
  {
   "cell_type": "markdown",
   "metadata": {},
   "source": [
    "# 18.04.20 8단계: 규칙 찾기"
   ]
  },
  {
   "cell_type": "code",
   "execution_count": 21,
   "metadata": {
    "scrolled": false
   },
   "outputs": [
    {
     "name": "stdout",
     "output_type": "stream",
     "text": [
      "2\n",
      "6 12 10\n",
      "402\n",
      "30 50 72\n",
      "1203\n"
     ]
    }
   ],
   "source": [
    "# 10250번 문제 - ACM호텔\n",
    "# ACM 호텔 매니저 지우는 손님이 도착하는 대로 빈 방을 배정하고 있다. 고객 설문조사에 따르면 손님들은 호텔 정문으로부터 걸어서 가장 짧은 거리에 있는 방을 선호한다고 한다. \n",
    "# 여러분은 지우를 도와 줄 프로그램을 작성하고자 한다. 즉 설문조사 결과 대로 호텔 정문으로부터 걷는 거리가 가장 짧도록 방을 배정하는 프로그램을 작성하고자 한다.\n",
    "# 문제를 단순화하기 위해서 호텔은 직사각형 모양이라고 가정하자. 각 층에 W 개의 방이 있는 H 층 건물이라고 가정하자 (1 ≤ H, W ≤ 99). \n",
    "# 그리고 엘리베이터는 가장 왼쪽에 있다고 가정하자(그림 1 참고). \n",
    "# 이런 형태의 호텔을 H × W 형태 호텔이라고 부른다. 호텔 정문은 일층 엘리베이터 바로 앞에 있는데, 정문에서 엘리베이터까지의 거리는 무시한다. \n",
    "# 또 모든 인접한 두 방 사이의 거리는 같은 거리(거리 1)라고 가정하고 호텔의 정면 쪽에만 방이 있다고 가정한다.\n",
    "# 방 번호는 YXX 나 YYXX 형태인데 여기서 Y 나 YY 는 층 수를 나타내고 XX 는 엘리베이터에서부터 세었을 때의 번호를 나타낸다. \n",
    "# 즉, 그림 1 에서 빗금으로 표시한 방은 305 호가 된다.\n",
    "# 손님은 엘리베이터를 타고 이동하는 거리는 신경 쓰지 않는다. 다만 걷는 거리가 같을 때에는 아래층의 방을 더 선호한다. \n",
    "# 예를 들면 102 호 방보다는 301 호 방을 더 선호하는데, 102 호는 거리 2 만큼 걸어야 하지만 301 호는 거리 1 만큼만 걸으면 되기 때문이다. \n",
    "# 같은 이유로 102 호보다 2101 호를 더 선호한다.\n",
    "# 여러분이 작성할 프로그램은 초기에 모든 방이 비어있다고 가정하에 이 정책에 따라 N 번째로 도착한 손님에게 배정될 방 번호를 계산하는 프로그램이다. \n",
    "# 첫 번째 손님은 101 호, 두 번째 손님은 201 호 등과 같이 배정한다. 그림 1 의 경우를 예로 들면, H = 6이므로 10 번째 손님은 402 호에 배정해야 한다.\n",
    "# 프로그램은 표준 입력에서 입력 데이터를 받는다. 프로그램의 입력은 T 개의 테스트 데이터로 이루어져 있는데 T 는 입력의 맨 첫 줄에 주어진다. \n",
    "# 각 테스트 데이터는 한 행으로서 H, W, N, 세 정수를 포함하고 있으며 각각 호텔의 층 수, 각 층의 방 수, 몇 번째 손님인지를 나타낸다(1 ≤ H, W ≤ 99, 1 ≤ N ≤ H × W). \n",
    "# 프로그램은 표준 출력에 출력한다. 각 테스트 데이터마다 정확히 한 행을 출력하는데, 내용은 N 번째 손님에게 배정되어야 하는 방 번호를 출력한다.\n",
    "\n",
    "#1차 제출 -> 틀림\n",
    "# for i in range(int(input())):\n",
    "#     floor,rooms,person=map(int, input().split())\n",
    "#     room_floor=str(person%floor)    \n",
    "#     room_num=str(person//floor)\n",
    "#     if len(room_num) == 1:\n",
    "#         room_num='0'+room_num\n",
    "#     if floor==1:\n",
    "#         room_floor='1'\n",
    "#     print(room_floor+room_num)\n",
    "    \n",
    "#2차 제출 -> 틀림 \n",
    "for i in range(int(input())):\n",
    "    floor,rooms,person=map(int, input().split())\n",
    "    room_num=str((person//floor)+1)\n",
    "    if floor == 1:\n",
    "        room_floor='1'\n",
    "        room_num=str(person)\n",
    "    else:\n",
    "        room_floor=str(person%floor)\n",
    "    if len(room_num) == 1:\n",
    "        room_num='0'+room_num\n",
    "    print(room_floor+room_num)\n",
    "    \n",
    "#3차 제출\n",
    "for i in range(int(input())):\n",
    "    floor,rooms,person=map(int, input().split())\n",
    "    room_num=str((person//floor)+1)\n",
    "    room_floor=str(person%floor)\n",
    "\n",
    "    if floor == 1:\n",
    "        room_floor='1'\n",
    "        room_num=str(person)\n",
    "\n",
    "    elif room_floor == '0':\n",
    "        room_floor=str(floor)   \n",
    "        room_num=str(person//floor)\n",
    "\n",
    "    if len(room_num) == 1:\n",
    "        room_num='0'+room_num\n",
    "    print(room_floor+room_num)\n",
    "    \n",
    "#숏코딩\n",
    "exec('h,w,n=map(int,input().split());print(~-n//h+~-n%h*100+101);'*int(input()))"
   ]
  },
  {
   "cell_type": "code",
   "execution_count": 50,
   "metadata": {
    "collapsed": true
   },
   "outputs": [
    {
     "name": "stdout",
     "output_type": "stream",
     "text": [
      "2\n",
      "1\n",
      "3\n",
      "6\n",
      "2\n",
      "3\n",
      "10\n"
     ]
    }
   ],
   "source": [
    "# 2775번 문제 - 부녀회장이 될테야\n",
    "# 평소 반상회에 참석하는 것을 좋아하는 주희는 이번 기회에 부녀회장이 되고 싶어 각 층의 사람들을 불러 모아 반상회를 주최하려고 한다.\n",
    "# 이 아파트에 거주를 하려면 조건이 있는데, “a 층의 b 호에 살려면 자신의 아래(a-1)층에 1호부터 b 호까지 사람들의 수의 합만큼 사람들을 데려와 살아야한다” 는 계약 조항을 꼭 지키고 들어와야 한다.\n",
    "# 아파트에 비어있는 집은 없고 모든 거주민들이 이 계약 조건을 지키고 왔다고 가정 했을 때, 주어지는 양의 정수 k와 n에 대해 k층에 n호에는 몇 명이 살고 있나를 출력하라. \n",
    "# 단, 아파트에는 0층부터 있고 각층에는 1호부터 있으며, 0층에 i호에는 i명이 산다.\n",
    "# 첫 번째 줄에 Test case의 수 T가 주어진다. 그리고 각각의 케이스마다 입력으로 첫 번째 줄에 정수 k, 두 번째 줄에 정수 n이 주어진다. (1 <= k <= 14, 1 <= n <= 14)\n",
    "# 각각의 Test case에 대해서 해당 집에 거주민 수를 출력하라.\n",
    "\n",
    "for i in range(int(input())):\n",
    "    floors=int(input())\n",
    "    rooms=int(input())\n",
    "    people=[j+1 for j in range(rooms)]\n",
    "    for floor in range(floors):\n",
    "        peoples=[]\n",
    "        for room in range(rooms):    \n",
    "            peoples.append(sum(people[:room+1]))\n",
    "        people=peoples\n",
    "    print(people[rooms-1])\n",
    "\n",
    "#숏코딩\n",
    "f = lambda n: 1 if n == 0 else f(n-1) * n\n",
    "for _ in range(int(input())):\n",
    "    k = int(input())\n",
    "    n = int(input())\n",
    "    print(f(n+k)//f(k+1)//f(n-1))"
   ]
  },
  {
   "cell_type": "code",
   "execution_count": null,
   "metadata": {
    "collapsed": true
   },
   "outputs": [],
   "source": []
  }
 ],
 "metadata": {
  "kernelspec": {
   "display_name": "Python 3",
   "language": "python",
   "name": "python3"
  },
  "language_info": {
   "codemirror_mode": {
    "name": "ipython",
    "version": 3
   },
   "file_extension": ".py",
   "mimetype": "text/x-python",
   "name": "python",
   "nbconvert_exporter": "python",
   "pygments_lexer": "ipython3",
   "version": "3.6.3"
  }
 },
 "nbformat": 4,
 "nbformat_minor": 2
}
