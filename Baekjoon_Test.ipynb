{
 "cells": [
  {
   "cell_type": "code",
   "execution_count": null,
   "metadata": {
    "collapsed": true
   },
   "outputs": [],
   "source": [
    "#18.04.04 - 1단계: 입/출력 받아보기 "
   ]
  },
  {
   "cell_type": "code",
   "execution_count": 9,
   "metadata": {},
   "outputs": [
    {
     "name": "stdout",
     "output_type": "stream",
     "text": [
      "3 4\n",
      "7\n"
     ]
    }
   ],
   "source": [
    "# 1000번 문제: 두 수 A와 B를 입력받은 다음, A+B를 출력하는 프로그램을 작성하시오. 첫째 줄에 A와 B가 주어진다. (0 < A, B < 10)\n",
    "# a, b = input().split()\n",
    "# print(int(a) + int(b))\n",
    "\n",
    "a, b = map(int, input().split())\n",
    "print(a+b)\n",
    "\n",
    "#다른 해답\n",
    "# print(eval('+'.join(input())))"
   ]
  },
  {
   "cell_type": "code",
   "execution_count": 11,
   "metadata": {},
   "outputs": [
    {
     "name": "stdout",
     "output_type": "stream",
     "text": [
      "3 4\n",
      "-1\n"
     ]
    }
   ],
   "source": [
    "#1001번 문제: A-B를 계산하시오. 첫째 줄에 A와 B가 주어진다. (0< A, B < 10)\n",
    "\n",
    "a, b = map(int, input().split())\n",
    "print(a-b)"
   ]
  },
  {
   "cell_type": "code",
   "execution_count": 12,
   "metadata": {},
   "outputs": [
    {
     "name": "stdout",
     "output_type": "stream",
     "text": [
      "2\n",
      "rainysky\n"
     ]
    }
   ],
   "source": [
    "#7287번 문제: 자신이 온라인 저지에서 맞은 문제의 개수와 아이디를 그대로 출력하는 프로그램을 작성하시오.\n",
    "print(\"3\")\n",
    "print(\"rainysky\")"
   ]
  },
  {
   "cell_type": "code",
   "execution_count": 45,
   "metadata": {},
   "outputs": [
    {
     "name": "stdout",
     "output_type": "stream",
     "text": [
      "|\\_/|\n",
      "|q p|   /}\n",
      "( 0 )\"\"\"\\\n",
      "|\"^\"`    |\n",
      "||_/=\\\\__|\n"
     ]
    }
   ],
   "source": [
    "#10172번 문제: 아래 예제와 같이 개를 출력하시오.\n",
    "print(r'''|\\_/|\n",
    "|q p|   /}\n",
    "( 0 )\"\"\"\\\n",
    "|\"^\"`    |\n",
    "||_/=\\\\__|''')\n",
    "\n",
    "#문자열 앞에 r을 넣어 raw literal임을 알려야 함\n",
    "\n",
    "#다른 해답\n",
    "# print('|\\_/|\\n|q p|   /}\\n( 0 )\"\"\"\\ \\n|\"^\"`    |\\n||_/=\\\\\\__|')"
   ]
  },
  {
   "cell_type": "code",
   "execution_count": 50,
   "metadata": {},
   "outputs": [
    {
     "name": "stdout",
     "output_type": "stream",
     "text": [
      "강한친구 대한육군\n",
      "강한친구 대한육군\n",
      "강한친구 대한육군\n",
      "강한친구 대한육군\n",
      "\n"
     ]
    }
   ],
   "source": [
    "#10718번 문제: 두 줄에 걸쳐 \"강한친구 대한육군\"을 한 줄에 한 번씩 출력한다.\n",
    "print(\"\"\"강한친구 대한육군\n",
    "강한친구 대한육군\"\"\")\n",
    "\n",
    "#다른 해답\n",
    "# print(\"강한친구 대한육군\\n\"*2)"
   ]
  },
  {
   "cell_type": "code",
   "execution_count": 66,
   "metadata": {},
   "outputs": [
    {
     "name": "stdout",
     "output_type": "stream",
     "text": [
      "Hello\n",
      "Baekjoon\n",
      "Online Judge\n"
     ]
    }
   ],
   "source": [
    "#11718번 문제: 입력 받은 대로 출력하는 프로그램을 작성하시오.입력은 최대 100줄로 이루어져 있고, 알파벳 소문자, 대문자, 공백, 숫자로만 이루어져 있다. 각 줄은 100글자를 넘지 않으며, 빈 줄은 주어지지 않는다. 또, 각 줄은 공백으로 시작하지 않고, 공백으로 끝나지 않는다.\n",
    "# anyinput = True\n",
    "# texts = []\n",
    "# while anyinput:\n",
    "#     text = input()\n",
    "#     if len(text) == 0:\n",
    "#         anyinput = False\n",
    "#         continue\n",
    "#     else:\n",
    "#         texts.append(text)\n",
    "# -> 오답\n",
    "\n",
    "# for text in texts:\n",
    "#     print(text)\n",
    "# -> 오답\n",
    "\n",
    "# texts = input()\n",
    "# for text in texts.split('\\n'):\n",
    "#     print(text)\n",
    "# -> 오답\n",
    "\n",
    "try:\n",
    "    while True:\n",
    "        text = input()\n",
    "        print(text)\n",
    "        \n",
    "except EOFError:\n",
    "    pass\n",
    "# 참고: https://soooprmx.com/archives/8242\n",
    "\n",
    "\n",
    "# 다른 해답\n",
    "# while 1:print(input())"
   ]
  },
  {
   "cell_type": "code",
   "execution_count": null,
   "metadata": {
    "collapsed": true
   },
   "outputs": [],
   "source": [
    "# 11719번 문제: 입력 받은 대로 출력하는 프로그램을 작성하시오. 입력은 최대 100줄로 이루어져 있고, 알파벳 소문자, 대문자, 공백, 숫자로만 이루어져 있다. 각 줄은 100글자를 넘지 않으며, 빈 줄이 주어질 수도 있고, 각 줄의 앞 뒤에 공백이 있을 수도 있다.\n",
    "\n",
    "try:\n",
    "    while 1:\n",
    "        print(input())\n",
    "except EOFError:\n",
    "    pass"
   ]
  },
  {
   "cell_type": "code",
   "execution_count": 1,
   "metadata": {
    "collapsed": true
   },
   "outputs": [],
   "source": [
    "# 18.04.05 - 2단계: 사칙연산 도전하기"
   ]
  },
  {
   "cell_type": "code",
   "execution_count": 22,
   "metadata": {},
   "outputs": [
    {
     "name": "stdout",
     "output_type": "stream",
     "text": [
      "1 3\n",
      "3\n"
     ]
    }
   ],
   "source": [
    "# 10998번 문제: 두 정수 A와 B를 입력받은 다음, A×B를 출력하는 프로그램을 작성하시오. 첫째 줄에 A와 B가 주어진다. (0 < A, B < 10)\n",
    "\n",
    "a, b = map(int, input().split())\n",
    "print(a*b)\n",
    "\n",
    "# 다른 해답\n",
    "# a,b,c=input();print(int(a)*int(c))"
   ]
  },
  {
   "cell_type": "code",
   "execution_count": 30,
   "metadata": {},
   "outputs": [
    {
     "name": "stdout",
     "output_type": "stream",
     "text": [
      "1 3\n",
      "0.3333333333333333\n"
     ]
    }
   ],
   "source": [
    "# 1008번 문제: A/B를 계산하시오. 첫째 줄에 A와 B가 주어진다. (0 < A, B < 10). 절대/상대 오차는 10-9 까지 허용한다.\n",
    "\n",
    "a, b = map(float, input().split())\n",
    "print(a/b)\n",
    "\n",
    "#다른 해답\n",
    "# a,b,c=input();print(int(a)/int(c))"
   ]
  },
  {
   "cell_type": "code",
   "execution_count": 37,
   "metadata": {},
   "outputs": [
    {
     "name": "stdout",
     "output_type": "stream",
     "text": [
      "7 3\n",
      "10\n",
      "4\n",
      "21\n",
      "2\n",
      "1\n"
     ]
    }
   ],
   "source": [
    "# 10869번 문제: 두 자연수 A와 B가 주어진다. 이 때, A+B, A-B, A*B, A/B(몫), A%B(나머지)를 출력하는 프로그램을 작성하시오. 첫째 줄에 A+B, 둘째 줄에 A-B, 셋째 줄에 A*B, 넷째 줄에 A/B, 다섯째 줄에 A%B를 출력한다.\n",
    "a, b = map(int, input().split())\n",
    "print(a+b)\n",
    "print(a-b)\n",
    "print(a*b)\n",
    "print(int(a/b))\n",
    "print(a%b)\n",
    "\n",
    "#다른 해답\n",
    "# a,b=map(int,input().split());print(a+b,a-b,a*b,a//b,a%b, sep='\\n')"
   ]
  },
  {
   "cell_type": "code",
   "execution_count": 38,
   "metadata": {
    "scrolled": true
   },
   "outputs": [
    {
     "name": "stdout",
     "output_type": "stream",
     "text": [
      "5 8 4\n",
      "1\n",
      "1\n",
      "0\n",
      "0\n"
     ]
    }
   ],
   "source": [
    "# 10430번 문제: (A+B)%C는 (A%C + B%C)%C 와 같을까?\n",
    "# (A×B)%C는 (A%C × B%C)%C 와 같을까? \n",
    "# 세 수 A, B, C가 주어졌을 때, 위의 네가지 값을 구하는 프로그램을 작성하시오. \n",
    "# 첫째 줄에 A, B, C가 순서대로 주어진다. (2 ≤ A, B, C ≤ 10000)  \n",
    "# 첫째 줄에 (A+B)%C, 둘째 줄에 (A%C + B%C)%C, 셋째 줄에 (A×B)%C, 넷째 줄에 (A%C × B%C)%C를 출력한다.\n",
    "\n",
    "a,b,c = map(int, input().split())\n",
    "print((a+b)%c, (a%c + b%c)%c, (a*b)%c, (a%c * b%c)%c, sep='\\n')"
   ]
  },
  {
   "cell_type": "code",
   "execution_count": 42,
   "metadata": {
    "scrolled": true
   },
   "outputs": [
    {
     "name": "stdout",
     "output_type": "stream",
     "text": [
      "1\n",
      "2\n",
      "3\n"
     ]
    }
   ],
   "source": [
    "# 2558번 문제: A+B를 계산하시오. 첫째 줄에 A, 둘째 줄에 B가 주어진다. (0 < A, B < 10)\n",
    "\n",
    "# a = input()\n",
    "# b = input()\n",
    "# print(int(a)+int(b))\n",
    "print(int(input())+int(input()))"
   ]
  },
  {
   "cell_type": "code",
   "execution_count": 109,
   "metadata": {},
   "outputs": [
    {
     "name": "stdout",
     "output_type": "stream",
     "text": [
      "114\n",
      "24\n"
     ]
    }
   ],
   "source": [
    "# 2839번 문제: 상근이는 요즘 설탕공장에서 설탕을 배달하고 있다. 상근이는 지금 사탕가게에 설탕을 정확하게 N킬로그램을 배달해야 한다. 설탕공장에서 만드는 설탕은 봉지에 담겨져 있다. \n",
    "# 봉지는 3킬로그램 봉지와 5킬로그램 봉지가 있다. 상근이는 귀찮기 때문에, 최대한 적은 봉지를 들고 가려고 한다. \n",
    "# 예를 들어, 18킬로그램 설탕을 배달해야 할 때, 3킬로그램 봉지 6개를 가져가도 되지만, 5킬로그램 3개와 3킬로그램 1개를 배달하면, \n",
    "# 더 적은 개수의 봉지를 배달할 수 있다. 상근이가 설탕을 정확하게 N킬로그램 배달해야 할 때, 봉지 몇 개를 가져가면 되는지 그 수를 구하는 프로그램을 작성하시오.\n",
    "# 첫째 줄에 N이 주어진다. (3 ≤ N ≤ 5000) 상근이가 배달하는 봉지의 최소 개수를 출력한다. 만약, 정확하게 N킬로그램을 만들 수 없다면 -1을 출력한다.\n",
    "   \n",
    "n = int(input())\n",
    "a = n%5\n",
    "b = int(n/5)\n",
    "if n < 15 and n%3 == 0: print(int(n/3))\n",
    "elif a == 0: print(b)\n",
    "elif n > 7 and a == 1: print(b+1)\n",
    "elif n > 7 and a == 2: print(b+2)\n",
    "elif n > 7 and a == 3: print(b+1)\n",
    "elif n > 7 and a == 4: print(b+2)\n",
    "else: print(-1)\n",
    "    \n",
    "# 다른 해답\n",
    "# i=int(input())\n",
    "# c=0\n",
    "# while i%5:\n",
    "#     i-=3\n",
    "#     c+=1\n",
    "# print(-1 if i<0 else i//5+c)"
   ]
  },
  {
   "cell_type": "code",
   "execution_count": null,
   "metadata": {
    "collapsed": true
   },
   "outputs": [],
   "source": [
    "# 18.04.06 - 3단계: for문 사용해보기"
   ]
  },
  {
   "cell_type": "code",
   "execution_count": 27,
   "metadata": {
    "collapsed": true
   },
   "outputs": [
    {
     "ename": "SyntaxError",
     "evalue": "invalid syntax (<ipython-input-27-8cb18b351c3a>, line 3)",
     "output_type": "error",
     "traceback": [
      "\u001b[1;36m  File \u001b[1;32m\"<ipython-input-27-8cb18b351c3a>\"\u001b[1;36m, line \u001b[1;32m3\u001b[0m\n\u001b[1;33m    print(i+1) for i in range(int(input()))\u001b[0m\n\u001b[1;37m                 ^\u001b[0m\n\u001b[1;31mSyntaxError\u001b[0m\u001b[1;31m:\u001b[0m invalid syntax\n"
     ]
    }
   ],
   "source": [
    "# 2741번 문제: 자연수 N이 주어졌을 때, 1부터 N까지 한 줄에 하나씩 출력하는 프로그램을 작성하시오. \n",
    "# 첫째 줄에 100,000보다 작거나 같은 자연수 N이 주어진다.\n",
    "\n",
    "for i in range(int(input())):\n",
    "    print(i+1)\n",
    "\n",
    "#다른 해답\n",
    "# print(*range(1,int(input())+1))"
   ]
  },
  {
   "cell_type": "code",
   "execution_count": 2,
   "metadata": {},
   "outputs": [
    {
     "name": "stdout",
     "output_type": "stream",
     "text": [
      "9\n",
      "9\n",
      "8\n",
      "7\n",
      "6\n",
      "5\n",
      "4\n",
      "3\n",
      "2\n",
      "1\n"
     ]
    }
   ],
   "source": [
    "#2742번 문제: 자연수 N이 주어졌을 때, N부터 1까지 한 줄에 하나씩 출력하는 프로그램을 작성하시오.\n",
    "# 첫째 줄에 100,000보다 작거나 같은 자연수 N이 주어진다.\n",
    "# 첫째 줄부터 N번째 줄 까지 차례대로 출력한다.\n",
    "N = int(input())\n",
    "for i in range(N): print(N-i)\n",
    "    \n",
    "#다른 해답\n",
    "# n=int(input())\n",
    "# while n:print(n);n-=1"
   ]
  },
  {
   "cell_type": "code",
   "execution_count": 6,
   "metadata": {},
   "outputs": [
    {
     "name": "stdout",
     "output_type": "stream",
     "text": [
      "2\n",
      "2 * 1 = 2\n",
      "2 * 2 = 4\n",
      "2 * 3 = 6\n",
      "2 * 4 = 8\n",
      "2 * 5 = 10\n",
      "2 * 6 = 12\n",
      "2 * 7 = 14\n",
      "2 * 8 = 16\n",
      "2 * 9 = 18\n"
     ]
    }
   ],
   "source": [
    "#2739번 문제: N을 입력받은 뒤, 구구단 N단을 출력하는 프로그램을 작성하시오. 출력 형식에 맞춰서 출력하면 된다.\n",
    "# 첫째 줄에 N이 주어진다. N은 1보다 크거나 같고, 9보다 작거나 같다.\n",
    "# 출력형식과 같게 N*1부터 N*9까지 출력한다.\n",
    "N = int(input())\n",
    "#1차 제출안 -> 출력형식오류. 채점에 문제 있는듯. \"\" 사이의 공백 없애니 통과됨. 출력 예시에는 공백이 포함되어 있음\n",
    "# for i in range(1, 10): print(N,\" * \",i,\" = \",N*i)\n",
    "\n",
    "#2차제출안\n",
    "for i in range(1, 10): print(str(N)+\" * \"+str(i)+\" = \"+str(N*i))\n",
    "    \n",
    "#3차제출안\n",
    "# for i in range(1, 10): print(N,\"*\",i,\"=\",N*i)"
   ]
  },
  {
   "cell_type": "code",
   "execution_count": 14,
   "metadata": {},
   "outputs": [
    {
     "name": "stdout",
     "output_type": "stream",
     "text": [
      "4\n",
      "*\n",
      "**\n",
      "***\n",
      "****\n"
     ]
    }
   ],
   "source": [
    "#2438번 문제: 첫째 줄에는 별 1개, 둘째 줄에는 별 2개, N번째 줄에는 별 N개를 찍는 문제\n",
    "# 첫째 줄에 N (1<=N<=100)이 주어진다.\n",
    "# 첫째 줄부터 N번째 줄 까지 차례대로 별을 출력한다.\n",
    "for i in range(int(input())):print(\"*\"*(i+1))\n",
    "    \n",
    "#다른 해답\n",
    "# for i in range(int(input())):print('*'*-~i)\n",
    "# *-~i 부분이 이해 안됨 -> ~ 는 비트연산자 중 보수 연산으로 +1을 한 후 - 값으로 바꿈. -~ 는 결국 +1"
   ]
  },
  {
   "cell_type": "code",
   "execution_count": 24,
   "metadata": {},
   "outputs": [
    {
     "name": "stdout",
     "output_type": "stream",
     "text": [
      "3\n",
      "  *\n",
      " **\n",
      "***\n"
     ]
    }
   ],
   "source": [
    "#2439번 문제: 첫째 줄에는 별 1개, 둘째 줄에는 별 2개, N번째 줄에는 별 N개를 찍는 문제. 하지만, 오른쪽을 기준으로 정렬한 별 (예제 참고)을 출력하시오.\n",
    "# 첫째 줄에 N (1<=N<=100)이 주어진다.\n",
    "# 첫째 줄부터 N번째 줄 까지 차례대로 별을 출력한다.\n",
    "\n",
    "#1번 제출 -> 출력형식 오류\n",
    "N = int(input())\n",
    "for i in range(1, N+1):print(\" \"*(N-i),\"*\"*i)\n",
    "\n",
    "#2번 제출\n",
    "N = int(input())\n",
    "for i in range(1, N+1):print(\" \"*(N-i)+\"*\"*i)\n",
    "    \n",
    "#다른 해답\n",
    "# i=int(input());j=1;exec('print(\" \"*(i-j)+\"*\"*j);j+=1;'*i)"
   ]
  },
  {
   "cell_type": "code",
   "execution_count": 21,
   "metadata": {
    "scrolled": true
   },
   "outputs": [
    {
     "name": "stdout",
     "output_type": "stream",
     "text": [
      "5\n",
      "*****\n",
      "****\n",
      "***\n",
      "**\n",
      "*\n"
     ]
    }
   ],
   "source": [
    "#2440번 문제: 첫째 줄에는 별 N개, 둘째 줄에는 별 N-1개, ..., N번째 줄에는 별 1개를 찍는 문제\n",
    "# 첫째 줄에 N (1<=N<=100)이 주어진다.\n",
    "# 첫째 줄부터 N번째 줄 까지 차례대로 별을 출력한다.\n",
    "N = int(input())\n",
    "for i in range(N):print(\"*\"*(N-i))\n",
    "    \n",
    "#다른 해답 -> for문보다 while을 사용한 해답이 주로 보임. 짧아서 그런가?\n",
    "# n=int(input())\n",
    "# while(n>0):print('*'*n);n-=1"
   ]
  },
  {
   "cell_type": "code",
   "execution_count": 26,
   "metadata": {},
   "outputs": [
    {
     "name": "stdout",
     "output_type": "stream",
     "text": [
      "4\n",
      "****\n",
      " ***\n",
      "  **\n",
      "   *\n"
     ]
    }
   ],
   "source": [
    "# 2441번 문제: 첫째 줄에는 별 N개, 둘째 줄에는 별 N-1개, ..., N번째 줄에는 별 1개를 찍는 문제. 하지만, 오른쪽을 기준으로 정렬한 별 (예제 참고)을 출력하시오.\n",
    "# 첫째 줄에 N (1<=N<=100)이 주어진다.\n",
    "# 첫째 줄부터 N번째 줄 까지 차례대로 별을 출력한다.\n",
    "\n",
    "N=int(input());i=0;exec('print(\" \"*i+\"*\"*(N-i));i+=1;'*N)\n",
    "\n",
    "#다른 해답 \n",
    "# a=int(input())\n",
    "# for i in range(a):print(' '*i+'*'*(a-i))"
   ]
  },
  {
   "cell_type": "code",
   "execution_count": 35,
   "metadata": {
    "scrolled": true
   },
   "outputs": [
    {
     "name": "stdout",
     "output_type": "stream",
     "text": [
      "1 1\n",
      "MON\n"
     ]
    }
   ],
   "source": [
    "# 1924번 문제:오늘은 2007년 1월 1일 월요일이다. 그렇다면 2007년 x월 y일은 무슨 요일일까? 이를 알아내는 프로그램을 작성하시오.\n",
    "# 첫째 줄에 빈 칸을 사이에 두고 x(1≤x≤12)와 y(1≤y≤31)이 주어진다. 참고로 2007년에는 1, 3, 5, 7, 8, 10, 12월은 31일까지, 4, 6, 9, 11월은 30일까지, 2월은 28일까지 있다.\n",
    "# 첫째 줄에 x월 y일이 무슨 요일인지에 따라 SUN, MON, TUE, WED, THU, FRI, SAT중 하나를 출력한다.\n",
    "\n",
    "# m, d = map(int, input().split())\n",
    "# D = 0\n",
    "# m31 = [1, 3, 5, 7, 8, 10, 12]\n",
    "# m30 = [4, 6, 9, 11]\n",
    "# W = ['MON', 'TUE', 'WED', 'THU', 'FRI', 'SAT', 'SUN']\n",
    "# for i in range(m):\n",
    "#     if i in m31:D += 31\n",
    "#     elif i in m30:D += 30\n",
    "#     else:D += 28\n",
    "# print(W[((D+d)%7)-1])\n",
    "\n",
    "#다른 해답 -> 인덱싱을 잘 활용했다 / 다만 뒤의 숫자가 어떤 숫자인지는 파악 못함. \n",
    "m,d=map(int,input().split());print('FSSMTWTRAUOUEHITNNEDU'[(d-5389465494//7**m)%7::7])"
   ]
  },
  {
   "cell_type": "code",
   "execution_count": 76,
   "metadata": {},
   "outputs": [
    {
     "name": "stdout",
     "output_type": "stream",
     "text": [
      "10\n",
      "55\n"
     ]
    }
   ],
   "source": [
    "#8393번 문제: n이 주어졌을 때, 1부터 n까지 합을 구하는 프로그램을 작성하시오.\n",
    "# 첫째 줄에 n (1 ≤ n ≤ 10,000)이 주어진다.\n",
    "# 1부터 n까지 합을 출력한다.\n",
    "# print(sum([int(i+1) for i in range(int(input()))]))\n",
    "\n",
    "#다른 해답 -> for문이 아닌 수학적 지식 활용 ㅋㅋㅋ\n",
    "# n=int(input());print(n*(n+1)//2)\n",
    "\n",
    "#다른 해답 -> 정석적인 풀이. 나는 한줄로 쓰고싶어 list comprehension을 씀.\n",
    "# n=int(input());s=0\n",
    "# for i in range(1,n+1):s+=i\n",
    "# print(s)"
   ]
  },
  {
   "cell_type": "code",
   "execution_count": 80,
   "metadata": {},
   "outputs": [
    {
     "name": "stdout",
     "output_type": "stream",
     "text": [
      "10\n",
      "1231231231\n",
      "19\n"
     ]
    }
   ],
   "source": [
    "# 11720번 문제: N개의 숫자가 공백 없이 쓰여있다. 이 숫자를 모두 합해서 출력하는 프로그램을 작성하시오.\n",
    "# 첫째 줄에 숫자의 개수 N (1 ≤ N ≤ 100)이 주어진다. 둘째 줄에 숫자 N개가 공백없이 주어진다.\n",
    "# 입력으로 주어진 숫자 N개의 합을 출력한다.\n",
    "\n",
    "N = int(input())\n",
    "raw = input()\n",
    "n = 0\n",
    "for i in range(N):n+=int(raw[i])\n",
    "print(n)\n",
    "\n",
    "#다른 해답 -> 첫번째 인풋을 무시하고 두번째 인풋을 그냥 다 더해버림\n",
    "input();print(sum(map(int,input())))"
   ]
  },
  {
   "cell_type": "code",
   "execution_count": 88,
   "metadata": {},
   "outputs": [
    {
     "name": "stdout",
     "output_type": "stream",
     "text": [
      "BaekjoonOnlineJudge\n",
      "BaekjoonOn\n",
      "lineJudge\n"
     ]
    }
   ],
   "source": [
    "# 11721번 문제: 알파벳 소문자와 대문자로만 이루어진 길이가 N인 단어가 주어진다. 한 줄에 10글자씩 끊어서 출력하는 프로그램을 작성하시오.\n",
    "# 첫째 줄에 단어가 주어진다. 단어는 알파벳 소문자와 대문자로만 이루어져 있으며, 길이는 100을 넘지 않는다. 길이가 0인 단어는 주어지지 않는다.\n",
    "# 입력으로 주어진 단어를 열 개씩 끊어서 한 줄에 하나씩 출력한다. 단어의 길이가 10의 배수가 아닌 경우에는 마지막 줄에는 10개 미만의 글자만 출력할 수도 있다.\n",
    "w = input()\n",
    "for i in range((len(w)//10)+1):print(w[(i*10):(10*(i+1))])\n",
    "\n",
    "#다른 해답 -> 본문을 계속 슬라이싱하여 출력\n",
    "s=input()\n",
    "while s:print(s[:10]);s=s[10:]"
   ]
  },
  {
   "cell_type": "code",
   "execution_count": 97,
   "metadata": {},
   "outputs": [
    {
     "name": "stdout",
     "output_type": "stream",
     "text": [
      "10\n",
      "0\n",
      "0\n",
      "0\n",
      "0\n",
      "0\n",
      "0\n",
      "0\n",
      "0\n",
      "0\n",
      "0\n"
     ]
    }
   ],
   "source": [
    "# 15552번 문제: 본격적으로 for문 문제를 풀기 전에 주의해야 할 점이 있다. 입출력 방식이 느리면 여러 줄을 입력받거나 출력할 때 시간초과가 날 수 있다는 점이다.\n",
    "# C++을 사용하고 있고 cin/cout을 사용하고자 한다면, cin.tie(NULL)과 sync_with_stdio(false)를 먼저 적용해 주자. 단, 이렇게 하면 더 이상 scanf/printf/puts/getchar/putchar 등 C의 입출력 방식을 사용하면 안 된다. 또한 endl 대신 개행문자를 쓰자.\n",
    "# Java를 사용하고 있다면, Scanner와 System.out.println 대신 BufferedReader와 BufferedWriter를 사용할 수 있다. BufferedWriter.flush는 맨 마지막에 한 번만 하면 된다.\n",
    "# Python을 사용하고 있다면, input 대신 sys.stdin.readline을 사용할 수 있다. 단, 이 때는 맨 끝의 개행문자까지 같이 입력받기 때문에 문자열을 저장하고 싶을 경우 .rstrip()을 추가로 해 주는 것이 좋다.\n",
    "# 또한 입력과 출력 스트림은 별개이므로, 테스트케이스를 전부 입력받아서 저장한 뒤 전부 출력할 필요는 없다. 테스트케이스를 하나 받은 뒤 하나 출력해도 된다. 이 문제는 메모리 제한이 작아서 테스트케이스를 전부 저장할 수 없도록 설계되었다.\n",
    "# 첫 줄에 테스트케이스의 개수 T가 주어진다. T는 최대 1,000,000이다. 다음 T줄에는 각각 두 정수 A와 B가 주어진다. A와 B는 1 이상, 1,000 이하이다.\n",
    "# 각 테스트케이스마다 A+B를 한 줄에 하나씩 순서대로 출력한다.\n",
    "\n",
    "#1차 제출 -> 시간초과\n",
    "for i in range(int(input())):print(sum(map(int, input().split())))\n",
    "\n",
    "#2차 제출\n",
    "import sys\n",
    "for i in range(int(input())):print(sum(map(int, sys.stdin.readline().split())))\n",
    "import sys\n",
    "\n",
    "#다른 해답\n",
    "# for x in sys.stdin.readlines()[1:]:print(sum(map(int,x.split())))"
   ]
  }
 ],
 "metadata": {
  "kernelspec": {
   "display_name": "Python 3",
   "language": "python",
   "name": "python3"
  },
  "language_info": {
   "codemirror_mode": {
    "name": "ipython",
    "version": 3
   },
   "file_extension": ".py",
   "mimetype": "text/x-python",
   "name": "python",
   "nbconvert_exporter": "python",
   "pygments_lexer": "ipython3",
   "version": "3.6.3"
  }
 },
 "nbformat": 4,
 "nbformat_minor": 2
}
