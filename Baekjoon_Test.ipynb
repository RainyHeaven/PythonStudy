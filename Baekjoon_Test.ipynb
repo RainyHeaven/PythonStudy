{
 "cells": [
  {
   "cell_type": "code",
   "execution_count": null,
   "metadata": {
    "collapsed": true
   },
   "outputs": [],
   "source": [
    "#18.04.04 - 1단계: 입/출력 받아보기 "
   ]
  },
  {
   "cell_type": "code",
   "execution_count": 9,
   "metadata": {},
   "outputs": [
    {
     "name": "stdout",
     "output_type": "stream",
     "text": [
      "3 4\n",
      "7\n"
     ]
    }
   ],
   "source": [
    "# 1000번 문제: 두 수 A와 B를 입력받은 다음, A+B를 출력하는 프로그램을 작성하시오. 첫째 줄에 A와 B가 주어진다. (0 < A, B < 10)\n",
    "# a, b = input().split()\n",
    "# print(int(a) + int(b))\n",
    "\n",
    "a, b = map(int, input().split())\n",
    "print(a+b)\n",
    "\n",
    "#다른 해답\n",
    "# print(eval('+'.join(input())))"
   ]
  },
  {
   "cell_type": "code",
   "execution_count": 11,
   "metadata": {},
   "outputs": [
    {
     "name": "stdout",
     "output_type": "stream",
     "text": [
      "3 4\n",
      "-1\n"
     ]
    }
   ],
   "source": [
    "#1001번 문제: A-B를 계산하시오. 첫째 줄에 A와 B가 주어진다. (0< A, B < 10)\n",
    "\n",
    "a, b = map(int, input().split())\n",
    "print(a-b)"
   ]
  },
  {
   "cell_type": "code",
   "execution_count": 12,
   "metadata": {},
   "outputs": [
    {
     "name": "stdout",
     "output_type": "stream",
     "text": [
      "2\n",
      "rainysky\n"
     ]
    }
   ],
   "source": [
    "#7287번 문제: 자신이 온라인 저지에서 맞은 문제의 개수와 아이디를 그대로 출력하는 프로그램을 작성하시오.\n",
    "print(\"3\")\n",
    "print(\"rainysky\")"
   ]
  },
  {
   "cell_type": "code",
   "execution_count": 45,
   "metadata": {},
   "outputs": [
    {
     "name": "stdout",
     "output_type": "stream",
     "text": [
      "|\\_/|\n",
      "|q p|   /}\n",
      "( 0 )\"\"\"\\\n",
      "|\"^\"`    |\n",
      "||_/=\\\\__|\n"
     ]
    }
   ],
   "source": [
    "#10172번 문제: 아래 예제와 같이 개를 출력하시오.\n",
    "print(r'''|\\_/|\n",
    "|q p|   /}\n",
    "( 0 )\"\"\"\\\n",
    "|\"^\"`    |\n",
    "||_/=\\\\__|''')\n",
    "\n",
    "#문자열 앞에 r을 넣어 raw literal임을 알려야 함\n",
    "\n",
    "#다른 해답\n",
    "# print('|\\_/|\\n|q p|   /}\\n( 0 )\"\"\"\\ \\n|\"^\"`    |\\n||_/=\\\\\\__|')"
   ]
  },
  {
   "cell_type": "code",
   "execution_count": 50,
   "metadata": {},
   "outputs": [
    {
     "name": "stdout",
     "output_type": "stream",
     "text": [
      "강한친구 대한육군\n",
      "강한친구 대한육군\n",
      "강한친구 대한육군\n",
      "강한친구 대한육군\n",
      "\n"
     ]
    }
   ],
   "source": [
    "#10718번 문제: 두 줄에 걸쳐 \"강한친구 대한육군\"을 한 줄에 한 번씩 출력한다.\n",
    "print(\"\"\"강한친구 대한육군\n",
    "강한친구 대한육군\"\"\")\n",
    "\n",
    "#다른 해답\n",
    "# print(\"강한친구 대한육군\\n\"*2)"
   ]
  },
  {
   "cell_type": "code",
   "execution_count": 66,
   "metadata": {},
   "outputs": [
    {
     "name": "stdout",
     "output_type": "stream",
     "text": [
      "Hello\n",
      "Baekjoon\n",
      "Online Judge\n"
     ]
    }
   ],
   "source": [
    "#11718번 문제: 입력 받은 대로 출력하는 프로그램을 작성하시오.입력은 최대 100줄로 이루어져 있고, 알파벳 소문자, 대문자, 공백, 숫자로만 이루어져 있다. 각 줄은 100글자를 넘지 않으며, 빈 줄은 주어지지 않는다. 또, 각 줄은 공백으로 시작하지 않고, 공백으로 끝나지 않는다.\n",
    "# anyinput = True\n",
    "# texts = []\n",
    "# while anyinput:\n",
    "#     text = input()\n",
    "#     if len(text) == 0:\n",
    "#         anyinput = False\n",
    "#         continue\n",
    "#     else:\n",
    "#         texts.append(text)\n",
    "# -> 오답\n",
    "\n",
    "# for text in texts:\n",
    "#     print(text)\n",
    "# -> 오답\n",
    "\n",
    "# texts = input()\n",
    "# for text in texts.split('\\n'):\n",
    "#     print(text)\n",
    "# -> 오답\n",
    "\n",
    "try:\n",
    "    while True:\n",
    "        text = input()\n",
    "        print(text)\n",
    "        \n",
    "except EOFError:\n",
    "    pass\n",
    "# 참고: https://soooprmx.com/archives/8242\n",
    "\n",
    "\n",
    "# 다른 해답\n",
    "# while 1:print(input())"
   ]
  },
  {
   "cell_type": "code",
   "execution_count": null,
   "metadata": {
    "collapsed": true
   },
   "outputs": [],
   "source": [
    "# 11719번 문제: 입력 받은 대로 출력하는 프로그램을 작성하시오. 입력은 최대 100줄로 이루어져 있고, 알파벳 소문자, 대문자, 공백, 숫자로만 이루어져 있다. 각 줄은 100글자를 넘지 않으며, 빈 줄이 주어질 수도 있고, 각 줄의 앞 뒤에 공백이 있을 수도 있다.\n",
    "\n",
    "try:\n",
    "    while 1:\n",
    "        print(input())\n",
    "except EOFError:\n",
    "    pass"
   ]
  },
  {
   "cell_type": "code",
   "execution_count": 1,
   "metadata": {
    "collapsed": true
   },
   "outputs": [],
   "source": [
    "# 18.04.05 - 2단계: 사칙연산 도전하기"
   ]
  },
  {
   "cell_type": "code",
   "execution_count": 22,
   "metadata": {},
   "outputs": [
    {
     "name": "stdout",
     "output_type": "stream",
     "text": [
      "1 3\n",
      "3\n"
     ]
    }
   ],
   "source": [
    "# 10998번 문제: 두 정수 A와 B를 입력받은 다음, A×B를 출력하는 프로그램을 작성하시오. 첫째 줄에 A와 B가 주어진다. (0 < A, B < 10)\n",
    "\n",
    "a, b = map(int, input().split())\n",
    "print(a*b)\n",
    "\n",
    "# 다른 해답\n",
    "# a,b,c=input();print(int(a)*int(c))"
   ]
  },
  {
   "cell_type": "code",
   "execution_count": 30,
   "metadata": {},
   "outputs": [
    {
     "name": "stdout",
     "output_type": "stream",
     "text": [
      "1 3\n",
      "0.3333333333333333\n"
     ]
    }
   ],
   "source": [
    "# 1008번 문제: A/B를 계산하시오. 첫째 줄에 A와 B가 주어진다. (0 < A, B < 10). 절대/상대 오차는 10-9 까지 허용한다.\n",
    "\n",
    "a, b = map(float, input().split())\n",
    "print(a/b)\n",
    "\n",
    "#다른 해답\n",
    "# a,b,c=input();print(int(a)/int(c))"
   ]
  },
  {
   "cell_type": "code",
   "execution_count": 37,
   "metadata": {},
   "outputs": [
    {
     "name": "stdout",
     "output_type": "stream",
     "text": [
      "7 3\n",
      "10\n",
      "4\n",
      "21\n",
      "2\n",
      "1\n"
     ]
    }
   ],
   "source": [
    "# 10869번 문제: 두 자연수 A와 B가 주어진다. 이 때, A+B, A-B, A*B, A/B(몫), A%B(나머지)를 출력하는 프로그램을 작성하시오. 첫째 줄에 A+B, 둘째 줄에 A-B, 셋째 줄에 A*B, 넷째 줄에 A/B, 다섯째 줄에 A%B를 출력한다.\n",
    "a, b = map(int, input().split())\n",
    "print(a+b)\n",
    "print(a-b)\n",
    "print(a*b)\n",
    "print(int(a/b))\n",
    "print(a%b)\n",
    "\n",
    "#다른 해답\n",
    "# a,b=map(int,input().split());print(a+b,a-b,a*b,a//b,a%b, sep='\\n')"
   ]
  },
  {
   "cell_type": "code",
   "execution_count": 38,
   "metadata": {
    "scrolled": true
   },
   "outputs": [
    {
     "name": "stdout",
     "output_type": "stream",
     "text": [
      "5 8 4\n",
      "1\n",
      "1\n",
      "0\n",
      "0\n"
     ]
    }
   ],
   "source": [
    "# 10430번 문제: (A+B)%C는 (A%C + B%C)%C 와 같을까?\n",
    "# (A×B)%C는 (A%C × B%C)%C 와 같을까? \n",
    "# 세 수 A, B, C가 주어졌을 때, 위의 네가지 값을 구하는 프로그램을 작성하시오. \n",
    "# 첫째 줄에 A, B, C가 순서대로 주어진다. (2 ≤ A, B, C ≤ 10000)  \n",
    "# 첫째 줄에 (A+B)%C, 둘째 줄에 (A%C + B%C)%C, 셋째 줄에 (A×B)%C, 넷째 줄에 (A%C × B%C)%C를 출력한다.\n",
    "\n",
    "a,b,c = map(int, input().split())\n",
    "print((a+b)%c, (a%c + b%c)%c, (a*b)%c, (a%c * b%c)%c, sep='\\n')"
   ]
  },
  {
   "cell_type": "code",
   "execution_count": 42,
   "metadata": {
    "scrolled": true
   },
   "outputs": [
    {
     "name": "stdout",
     "output_type": "stream",
     "text": [
      "1\n",
      "2\n",
      "3\n"
     ]
    }
   ],
   "source": [
    "# 2558번 문제: A+B를 계산하시오. 첫째 줄에 A, 둘째 줄에 B가 주어진다. (0 < A, B < 10)\n",
    "\n",
    "# a = input()\n",
    "# b = input()\n",
    "# print(int(a)+int(b))\n",
    "print(int(input())+int(input()))"
   ]
  },
  {
   "cell_type": "code",
   "execution_count": 109,
   "metadata": {},
   "outputs": [
    {
     "name": "stdout",
     "output_type": "stream",
     "text": [
      "114\n",
      "24\n"
     ]
    }
   ],
   "source": [
    "# 2839번 문제: 상근이는 요즘 설탕공장에서 설탕을 배달하고 있다. 상근이는 지금 사탕가게에 설탕을 정확하게 N킬로그램을 배달해야 한다. 설탕공장에서 만드는 설탕은 봉지에 담겨져 있다. \n",
    "# 봉지는 3킬로그램 봉지와 5킬로그램 봉지가 있다. 상근이는 귀찮기 때문에, 최대한 적은 봉지를 들고 가려고 한다. \n",
    "# 예를 들어, 18킬로그램 설탕을 배달해야 할 때, 3킬로그램 봉지 6개를 가져가도 되지만, 5킬로그램 3개와 3킬로그램 1개를 배달하면, \n",
    "# 더 적은 개수의 봉지를 배달할 수 있다. 상근이가 설탕을 정확하게 N킬로그램 배달해야 할 때, 봉지 몇 개를 가져가면 되는지 그 수를 구하는 프로그램을 작성하시오.\n",
    "# 첫째 줄에 N이 주어진다. (3 ≤ N ≤ 5000) 상근이가 배달하는 봉지의 최소 개수를 출력한다. 만약, 정확하게 N킬로그램을 만들 수 없다면 -1을 출력한다.\n",
    "   \n",
    "n = int(input())\n",
    "a = n%5\n",
    "b = int(n/5)\n",
    "if n < 15 and n%3 == 0: print(int(n/3))\n",
    "elif a == 0: print(b)\n",
    "elif n > 7 and a == 1: print(b+1)\n",
    "elif n > 7 and a == 2: print(b+2)\n",
    "elif n > 7 and a == 3: print(b+1)\n",
    "elif n > 7 and a == 4: print(b+2)\n",
    "else: print(-1)\n",
    "    \n",
    "# 다른 해답\n",
    "# i=int(input())\n",
    "# c=0\n",
    "# while i%5:\n",
    "#     i-=3\n",
    "#     c+=1\n",
    "# print(-1 if i<0 else i//5+c)"
   ]
  },
  {
   "cell_type": "code",
   "execution_count": null,
   "metadata": {
    "collapsed": true
   },
   "outputs": [],
   "source": []
  },
  {
   "cell_type": "code",
   "execution_count": 27,
   "metadata": {},
   "outputs": [
    {
     "ename": "SyntaxError",
     "evalue": "invalid syntax (<ipython-input-27-8cb18b351c3a>, line 3)",
     "output_type": "error",
     "traceback": [
      "\u001b[1;36m  File \u001b[1;32m\"<ipython-input-27-8cb18b351c3a>\"\u001b[1;36m, line \u001b[1;32m3\u001b[0m\n\u001b[1;33m    print(i+1) for i in range(int(input()))\u001b[0m\n\u001b[1;37m                 ^\u001b[0m\n\u001b[1;31mSyntaxError\u001b[0m\u001b[1;31m:\u001b[0m invalid syntax\n"
     ]
    }
   ],
   "source": [
    "# 2741번 문제: 자연수 N이 주어졌을 때, 1부터 N까지 한 줄에 하나씩 출력하는 프로그램을 작성하시오. 첫째 줄에 100,000보다 작거나 같은 자연수 N이 주어진다.\n",
    "\n",
    "for i in range(int(input())):\n",
    "    print(i+1)\n",
    "\n",
    "#다른 해답\n",
    "# print(*range(1,int(input())+1))"
   ]
  },
  {
   "cell_type": "code",
   "execution_count": null,
   "metadata": {
    "collapsed": true
   },
   "outputs": [],
   "source": []
  }
 ],
 "metadata": {
  "kernelspec": {
   "display_name": "Python 3",
   "language": "python",
   "name": "python3"
  },
  "language_info": {
   "codemirror_mode": {
    "name": "ipython",
    "version": 3
   },
   "file_extension": ".py",
   "mimetype": "text/x-python",
   "name": "python",
   "nbconvert_exporter": "python",
   "pygments_lexer": "ipython3",
   "version": "3.6.3"
  }
 },
 "nbformat": 4,
 "nbformat_minor": 2
}
