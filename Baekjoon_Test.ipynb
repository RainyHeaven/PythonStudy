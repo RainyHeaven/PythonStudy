{
 "cells": [
  {
   "cell_type": "code",
   "execution_count": 9,
   "metadata": {},
   "outputs": [
    {
     "name": "stdout",
     "output_type": "stream",
     "text": [
      "3 4\n",
      "7\n"
     ]
    }
   ],
   "source": [
    "# 1000번 문제: 두 수 A와 B를 입력받은 다음, A+B를 출력하는 프로그램을 작성하시오. 첫째 줄에 A와 B가 주어진다. (0 < A, B < 10)\n",
    "# a, b = input().split()\n",
    "# print(int(a) + int(b))\n",
    "\n",
    "a, b = map(int, input().split())\n",
    "print(a+b)\n",
    "\n",
    "#다른 해답\n",
    "# print(eval('+'.join(input())))"
   ]
  },
  {
   "cell_type": "code",
   "execution_count": 11,
   "metadata": {},
   "outputs": [
    {
     "name": "stdout",
     "output_type": "stream",
     "text": [
      "3 4\n",
      "-1\n"
     ]
    }
   ],
   "source": [
    "#1001번 문제: A-B를 계산하시오. 첫째 줄에 A와 B가 주어진다. (0< A, B < 10)\n",
    "\n",
    "a, b = map(int, input().split())\n",
    "print(a-b)"
   ]
  },
  {
   "cell_type": "code",
   "execution_count": 12,
   "metadata": {},
   "outputs": [
    {
     "name": "stdout",
     "output_type": "stream",
     "text": [
      "2\n",
      "rainysky\n"
     ]
    }
   ],
   "source": [
    "#7287번 문제: 자신이 온라인 저지에서 맞은 문제의 개수와 아이디를 그대로 출력하는 프로그램을 작성하시오.\n",
    "print(\"3\")\n",
    "print(\"rainysky\")"
   ]
  },
  {
   "cell_type": "code",
   "execution_count": 45,
   "metadata": {},
   "outputs": [
    {
     "name": "stdout",
     "output_type": "stream",
     "text": [
      "|\\_/|\n",
      "|q p|   /}\n",
      "( 0 )\"\"\"\\\n",
      "|\"^\"`    |\n",
      "||_/=\\\\__|\n"
     ]
    }
   ],
   "source": [
    "#10172번 문제: 아래 예제와 같이 개를 출력하시오.\n",
    "print(r'''|\\_/|\n",
    "|q p|   /}\n",
    "( 0 )\"\"\"\\\n",
    "|\"^\"`    |\n",
    "||_/=\\\\__|''')\n",
    "\n",
    "#문자열 앞에 r을 넣어 raw literal임을 알려야 함\n",
    "\n",
    "#다른 해답\n",
    "# print('|\\_/|\\n|q p|   /}\\n( 0 )\"\"\"\\ \\n|\"^\"`    |\\n||_/=\\\\\\__|')"
   ]
  },
  {
   "cell_type": "code",
   "execution_count": 50,
   "metadata": {},
   "outputs": [
    {
     "name": "stdout",
     "output_type": "stream",
     "text": [
      "강한친구 대한육군\n",
      "강한친구 대한육군\n",
      "강한친구 대한육군\n",
      "강한친구 대한육군\n",
      "\n"
     ]
    }
   ],
   "source": [
    "#10718번 문제: 두 줄에 걸쳐 \"강한친구 대한육군\"을 한 줄에 한 번씩 출력한다.\n",
    "print(\"\"\"강한친구 대한육군\n",
    "강한친구 대한육군\"\"\")\n",
    "\n",
    "#다른 해답\n",
    "# print(\"강한친구 대한육군\\n\"*2)"
   ]
  },
  {
   "cell_type": "code",
   "execution_count": 66,
   "metadata": {},
   "outputs": [
    {
     "name": "stdout",
     "output_type": "stream",
     "text": [
      "Hello\n",
      "Baekjoon\n",
      "Online Judge\n"
     ]
    }
   ],
   "source": [
    "#11718번 문제: 입력 받은 대로 출력하는 프로그램을 작성하시오.입력은 최대 100줄로 이루어져 있고, 알파벳 소문자, 대문자, 공백, 숫자로만 이루어져 있다. 각 줄은 100글자를 넘지 않으며, 빈 줄은 주어지지 않는다. 또, 각 줄은 공백으로 시작하지 않고, 공백으로 끝나지 않는다.\n",
    "# anyinput = True\n",
    "# texts = []\n",
    "# while anyinput:\n",
    "#     text = input()\n",
    "#     if len(text) == 0:\n",
    "#         anyinput = False\n",
    "#         continue\n",
    "#     else:\n",
    "#         texts.append(text)\n",
    "# -> 오답\n",
    "\n",
    "# for text in texts:\n",
    "#     print(text)\n",
    "# -> 오답\n",
    "\n",
    "# texts = input()\n",
    "# for text in texts.split('\\n'):\n",
    "#     print(text)\n",
    "# -> 오답\n",
    "\n",
    "try:\n",
    "    while True:\n",
    "        text = input()\n",
    "        print(text)\n",
    "        \n",
    "except EOFError:\n",
    "    pass\n",
    "# 참고: https://soooprmx.com/archives/8242\n",
    "\n",
    "\n",
    "# 다른 해답\n",
    "# while 1:print(input())"
   ]
  },
  {
   "cell_type": "code",
   "execution_count": null,
   "metadata": {
    "collapsed": true
   },
   "outputs": [],
   "source": [
    "# 11719번 문제: 입력 받은 대로 출력하는 프로그램을 작성하시오. 입력은 최대 100줄로 이루어져 있고, 알파벳 소문자, 대문자, 공백, 숫자로만 이루어져 있다. 각 줄은 100글자를 넘지 않으며, 빈 줄이 주어질 수도 있고, 각 줄의 앞 뒤에 공백이 있을 수도 있다.\n",
    "\n",
    "try:\n",
    "    while 1:\n",
    "        print(input())\n",
    "except EOFError:\n",
    "    pass"
   ]
  }
 ],
 "metadata": {
  "kernelspec": {
   "display_name": "Python 3",
   "language": "python",
   "name": "python3"
  },
  "language_info": {
   "codemirror_mode": {
    "name": "ipython",
    "version": 3
   },
   "file_extension": ".py",
   "mimetype": "text/x-python",
   "name": "python",
   "nbconvert_exporter": "python",
   "pygments_lexer": "ipython3",
   "version": "3.6.3"
  }
 },
 "nbformat": 4,
 "nbformat_minor": 2
}
